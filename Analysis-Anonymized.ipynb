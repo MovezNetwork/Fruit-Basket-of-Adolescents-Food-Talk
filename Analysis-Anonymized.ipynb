{
 "cells": [
  {
   "cell_type": "markdown",
   "metadata": {},
   "source": [
    "# Study 1: Analysis Anonymized"
   ]
  },
  {
   "cell_type": "markdown",
   "metadata": {},
   "source": [
    "First of all, all necessary libraries will be imported."
   ]
  },
  {
   "cell_type": "code",
   "execution_count": 1,
   "metadata": {},
   "outputs": [],
   "source": [
    "import csv\n",
    "import json\n",
    "from nltk.stem.snowball import SnowballStemmer\n",
    "import matplotlib.pyplot as plt\n",
    "from nltk.corpus import stopwords\n",
    "from nltk.tokenize import RegexpTokenizer\n",
    "import scipy\n",
    "import gensim\n",
    "from gensim import corpora, models\n",
    "\n",
    "import string\n",
    "import nltk\n",
    "import pandas as pd\n",
    "import numpy as np\n",
    "from scipy import stats\n",
    "import sys\n",
    "\n",
    "import csv\n",
    "from collections import Counter\n",
    "import statsmodels.formula.api as sm\n",
    "\n",
    "tokenizer = RegexpTokenizer(r'\\w+')\n",
    "my_stop = stopwords.words('dutch')\n",
    "stemmer = SnowballStemmer('dutch')\n",
    "from nltk.tokenize import word_tokenize\n",
    "import re\n",
    "\n",
    "from pattern.nl import suggest\n",
    "import itertools\n",
    "\n",
    "import pickle\n",
    "import plotly.express as px\n",
    "\n",
    "from scipy.stats import kendalltau, pearsonr, spearmanr\n",
    "\n",
    "def pearsonr_pval(x,y):\n",
    "    return pearsonr(x,y)[1]"
   ]
  },
  {
   "cell_type": "markdown",
   "metadata": {},
   "source": [
    "Lets import the different kind of diet-related dictionaries we created beforehand."
   ]
  },
  {
   "cell_type": "code",
   "execution_count": 2,
   "metadata": {},
   "outputs": [],
   "source": [
    "\n",
    "#with open(\"Input/Dictionaries/eten_en_drinken_stem.json\", \"r\", encoding = \"utf-8\", errors = \"ignore\") as fp:\n",
    "    #eten_en_drinken3 = json.load(fp)\n",
    "    \n",
    "with open(\"Input/Dictionaries/foods_stem.json\", \"r\", encoding = \"utf-8\", errors = \"ignore\") as fp:\n",
    "    foods2 = json.load(fp)\n",
    "    \n",
    "with open(\"Input/Dictionaries/drinks_stem.json\", \"r\", encoding = \"utf-8\", errors = \"ignore\") as fp:\n",
    "    drinks2 = json.load(fp)\n",
    "    \n",
    "with open(\"Input/Dictionaries/diet_related_stem.json\", \"r\", encoding = \"utf-8\", errors = \"ignore\") as fp:\n",
    "    diet_related2 = json.load(fp)\n",
    "    \n",
    "with open(\"Input/Dictionaries/supermarkets_stem.json\", \"r\", encoding = \"utf-8\", errors = \"ignore\") as fp:\n",
    "    supermarkets2 = json.load(fp)\n",
    "    \n",
    "with open(\"Input/Dictionaries/internet_slang_stem.json\", \"r\", encoding = \"utf-8\", errors = \"ignore\") as fp:\n",
    "    internet_slang2 = json.load(fp)\n",
    "    \n",
    "with open(\"Input/Dictionaries/restaurants_cafes_stem.json\", \"r\", encoding = \"utf-8\", errors = \"ignore\") as fp:\n",
    "    restaurants_cafes2 = json.load(fp)\n",
    "    \n",
    "with open(\"Input/Dictionaries/meals_stem.json\", \"r\", encoding = \"utf-8\", errors = \"ignore\") as fp:\n",
    "    meals2 = json.load(fp)\n",
    "\n",
    "with open(\"Input/Dictionaries/dutch_meals_stem.json\", \"r\", encoding = \"utf-8\", errors = \"ignore\") as fp:\n",
    "    dutch_meals2 = json.load(fp)\n",
    "    \n",
    "with open(\"Input/Dictionaries/food_brands_stem.json\", \"r\", encoding = \"utf-8\", errors = \"ignore\") as fp:\n",
    "    food_brands2 = json.load(fp)\n",
    "    \n",
    "with open(\"Input/Dictionaries/diets_stem.json\", \"r\", encoding = \"utf-8\", errors = \"ignore\") as fp:\n",
    "    diets2 = json.load(fp)\n",
    "\n",
    "with open(\"Input/Dictionaries/embeddings_stem.json\", \"r\", encoding = \"utf-8\", errors = \"ignore\") as fp:\n",
    "    embeddings2 = json.load(fp)\n",
    "    \n",
    "with open(\"Input/Nutriscores/nutriscores.json\", \"r\", encoding = \"utf-8\", errors = \"ignore\") as fp:\n",
    "    nutriscores = json.load(fp)\n",
    "\n",
    "#healthy = pd.read_csv(\"Input/Nutriscores/healthy.csv\")\n",
    "\n",
    "#unhealthy = pd.read_csv(\"Input/Nutriscores/unhealthy.csv\")\n",
    "    \n",
    "#with open(\"Input/Nutriscores/nutriscores_healthy.json\", \"r\", encoding = \"utf-8\", errors = \"ignore\") as fp:\n",
    "    #nutriscores_healthy = json.load(fp)\n",
    "    \n",
    "#with open(\"Input/Nutriscores/nutriscores_unhealthy.json\", \"r\", encoding = \"utf-8\", errors = \"ignore\") as fp:\n",
    "    #nutriscores_unhealthy = json.load(fp)\n",
    "    "
   ]
  },
  {
   "cell_type": "markdown",
   "metadata": {},
   "source": [
    "Lets also import messages that contain at least one word fro the respective dictionaries. (Note: We do not have consent top share the original text messages. In case you are interested in obtaining insight into the exact dataset, please contact the corresponding author.) Instead we give insight into a anonymized dataset for getting to know the data structure as oftent as possible."
   ]
  },
  {
   "cell_type": "code",
   "execution_count": 4,
   "metadata": {},
   "outputs": [],
   "source": [
    "food_buzz_anon = pd.read_csv(\"Input/Text/food_buzz_anon.csv\")\n",
    "#food_buzz = pd.read_pickle(\"Input/Text/food_buzz.pkl\")\n",
    "#drink_buzz = pd.read_pickle(\"Input/Text/drink_buzz.pkl\")\n",
    "#restaurant_buzz = pd.read_pickle(\"Input/Text/restaurant_buzz.pkl\")\n",
    "#supermarket_buzz = pd.read_pickle(\"Input/Text/supermarket_buzz.pkl\")\n",
    "#related_buzz = pd.read_pickle(\"Input/Text/related_buzz.pkl\")\n",
    "#slang_buzz = pd.read_pickle(\"Input/Text/slang_buzz.pkl\")\n",
    "#brand_buzz = pd.read_pickle(\"Input/Text/brand_buzz.pkl\")\n",
    "#diet_buzz = pd.read_pickle(\"Input/Text/diet_buzz.pkl\")\n",
    "#meal_buzz = pd.read_pickle(\"Input/Text/meal_buzz.pkl\")\n",
    "#dmeal_buzz = pd.read_pickle(\"Input/Text/dmeal_buzz.pkl\")\n",
    "#eat_buzz = pd.read_pickle(\"Input/Text/eat_buzz.pkl\")\n",
    "#unique_buzz = pd.read_pickle(\"Input/Text/unique_buzz.pkl\")"
   ]
  },
  {
   "cell_type": "markdown",
   "metadata": {},
   "source": [
    "Some columns need to be renamed, so that they fit the pandas format."
   ]
  },
  {
   "cell_type": "code",
   "execution_count": 7,
   "metadata": {},
   "outputs": [],
   "source": [
    "food_buzz = food_buzz_anon.rename(columns={'Media_0.0': 'Media_0', 'Media_1.0': \"Media_1\", \"Media_2.0\": \"Media_2\"})"
   ]
  },
  {
   "cell_type": "markdown",
   "metadata": {},
   "source": [
    "# Frenquency of diet-related food communication"
   ]
  },
  {
   "cell_type": "markdown",
   "metadata": {},
   "source": [
    "Lets have a look how the anonymized dataset without the Texts looks at this moment:"
   ]
  },
  {
   "cell_type": "code",
   "execution_count": 8,
   "metadata": {},
   "outputs": [
    {
     "data": {
      "text/html": [
       "<div>\n",
       "<style scoped>\n",
       "    .dataframe tbody tr th:only-of-type {\n",
       "        vertical-align: middle;\n",
       "    }\n",
       "\n",
       "    .dataframe tbody tr th {\n",
       "        vertical-align: top;\n",
       "    }\n",
       "\n",
       "    .dataframe thead th {\n",
       "        text-align: right;\n",
       "    }\n",
       "</style>\n",
       "<table border=\"1\" class=\"dataframe\">\n",
       "  <thead>\n",
       "    <tr style=\"text-align: right;\">\n",
       "      <th></th>\n",
       "      <th>Unnamed: 0</th>\n",
       "      <th>Unnamed: 0.1</th>\n",
       "      <th>Sender</th>\n",
       "      <th>Child</th>\n",
       "      <th>UMID</th>\n",
       "      <th>Recipient</th>\n",
       "      <th>Type</th>\n",
       "      <th>Likes</th>\n",
       "      <th>Gender</th>\n",
       "      <th>Age</th>\n",
       "      <th>...</th>\n",
       "      <th>related</th>\n",
       "      <th>slang</th>\n",
       "      <th>brands</th>\n",
       "      <th>diet</th>\n",
       "      <th>meals</th>\n",
       "      <th>Dmeals</th>\n",
       "      <th>Media_0.0</th>\n",
       "      <th>Media_1.0</th>\n",
       "      <th>Media_2.0</th>\n",
       "      <th>words_no</th>\n",
       "    </tr>\n",
       "  </thead>\n",
       "  <tbody>\n",
       "    <tr>\n",
       "      <th>0</th>\n",
       "      <td>76</td>\n",
       "      <td>76</td>\n",
       "      <td>3410302338</td>\n",
       "      <td>2338.0</td>\n",
       "      <td>32022</td>\n",
       "      <td>NaN</td>\n",
       "      <td>group</td>\n",
       "      <td>2</td>\n",
       "      <td>0.0</td>\n",
       "      <td>10.0</td>\n",
       "      <td>...</td>\n",
       "      <td>0</td>\n",
       "      <td>0</td>\n",
       "      <td>0</td>\n",
       "      <td>0</td>\n",
       "      <td>0</td>\n",
       "      <td>0</td>\n",
       "      <td>1</td>\n",
       "      <td>0</td>\n",
       "      <td>0</td>\n",
       "      <td>3</td>\n",
       "    </tr>\n",
       "    <tr>\n",
       "      <th>1</th>\n",
       "      <td>82</td>\n",
       "      <td>82</td>\n",
       "      <td>3410302338</td>\n",
       "      <td>2338.0</td>\n",
       "      <td>32092</td>\n",
       "      <td>NaN</td>\n",
       "      <td>group</td>\n",
       "      <td>1</td>\n",
       "      <td>0.0</td>\n",
       "      <td>10.0</td>\n",
       "      <td>...</td>\n",
       "      <td>0</td>\n",
       "      <td>0</td>\n",
       "      <td>0</td>\n",
       "      <td>0</td>\n",
       "      <td>0</td>\n",
       "      <td>0</td>\n",
       "      <td>1</td>\n",
       "      <td>0</td>\n",
       "      <td>0</td>\n",
       "      <td>3</td>\n",
       "    </tr>\n",
       "    <tr>\n",
       "      <th>2</th>\n",
       "      <td>163</td>\n",
       "      <td>163</td>\n",
       "      <td>3410302341</td>\n",
       "      <td>2341.0</td>\n",
       "      <td>31332</td>\n",
       "      <td>NaN</td>\n",
       "      <td>group</td>\n",
       "      <td>2</td>\n",
       "      <td>1.0</td>\n",
       "      <td>11.0</td>\n",
       "      <td>...</td>\n",
       "      <td>1</td>\n",
       "      <td>0</td>\n",
       "      <td>0</td>\n",
       "      <td>0</td>\n",
       "      <td>0</td>\n",
       "      <td>0</td>\n",
       "      <td>0</td>\n",
       "      <td>0</td>\n",
       "      <td>1</td>\n",
       "      <td>1</td>\n",
       "    </tr>\n",
       "    <tr>\n",
       "      <th>3</th>\n",
       "      <td>238</td>\n",
       "      <td>238</td>\n",
       "      <td>3410302342</td>\n",
       "      <td>2342.0</td>\n",
       "      <td>31681</td>\n",
       "      <td>NaN</td>\n",
       "      <td>group</td>\n",
       "      <td>1</td>\n",
       "      <td>1.0</td>\n",
       "      <td>10.0</td>\n",
       "      <td>...</td>\n",
       "      <td>1</td>\n",
       "      <td>0</td>\n",
       "      <td>0</td>\n",
       "      <td>0</td>\n",
       "      <td>0</td>\n",
       "      <td>0</td>\n",
       "      <td>1</td>\n",
       "      <td>0</td>\n",
       "      <td>0</td>\n",
       "      <td>1</td>\n",
       "    </tr>\n",
       "    <tr>\n",
       "      <th>4</th>\n",
       "      <td>242</td>\n",
       "      <td>242</td>\n",
       "      <td>3410302342</td>\n",
       "      <td>2342.0</td>\n",
       "      <td>31691</td>\n",
       "      <td>NaN</td>\n",
       "      <td>group</td>\n",
       "      <td>1</td>\n",
       "      <td>1.0</td>\n",
       "      <td>10.0</td>\n",
       "      <td>...</td>\n",
       "      <td>0</td>\n",
       "      <td>0</td>\n",
       "      <td>0</td>\n",
       "      <td>0</td>\n",
       "      <td>0</td>\n",
       "      <td>0</td>\n",
       "      <td>1</td>\n",
       "      <td>0</td>\n",
       "      <td>0</td>\n",
       "      <td>1</td>\n",
       "    </tr>\n",
       "    <tr>\n",
       "      <th>...</th>\n",
       "      <td>...</td>\n",
       "      <td>...</td>\n",
       "      <td>...</td>\n",
       "      <td>...</td>\n",
       "      <td>...</td>\n",
       "      <td>...</td>\n",
       "      <td>...</td>\n",
       "      <td>...</td>\n",
       "      <td>...</td>\n",
       "      <td>...</td>\n",
       "      <td>...</td>\n",
       "      <td>...</td>\n",
       "      <td>...</td>\n",
       "      <td>...</td>\n",
       "      <td>...</td>\n",
       "      <td>...</td>\n",
       "      <td>...</td>\n",
       "      <td>...</td>\n",
       "      <td>...</td>\n",
       "      <td>...</td>\n",
       "      <td>...</td>\n",
       "    </tr>\n",
       "    <tr>\n",
       "      <th>2133</th>\n",
       "      <td>431642</td>\n",
       "      <td>431642</td>\n",
       "      <td>5526305221</td>\n",
       "      <td>5221.0</td>\n",
       "      <td>166156</td>\n",
       "      <td>5.526305e+09</td>\n",
       "      <td>my</td>\n",
       "      <td>0</td>\n",
       "      <td>1.0</td>\n",
       "      <td>10.0</td>\n",
       "      <td>...</td>\n",
       "      <td>0</td>\n",
       "      <td>0</td>\n",
       "      <td>0</td>\n",
       "      <td>0</td>\n",
       "      <td>0</td>\n",
       "      <td>0</td>\n",
       "      <td>1</td>\n",
       "      <td>0</td>\n",
       "      <td>0</td>\n",
       "      <td>1</td>\n",
       "    </tr>\n",
       "    <tr>\n",
       "      <th>2134</th>\n",
       "      <td>431723</td>\n",
       "      <td>431723</td>\n",
       "      <td>5526305226</td>\n",
       "      <td>5226.0</td>\n",
       "      <td>166069</td>\n",
       "      <td>NaN</td>\n",
       "      <td>group</td>\n",
       "      <td>0</td>\n",
       "      <td>1.0</td>\n",
       "      <td>11.0</td>\n",
       "      <td>...</td>\n",
       "      <td>0</td>\n",
       "      <td>0</td>\n",
       "      <td>0</td>\n",
       "      <td>0</td>\n",
       "      <td>0</td>\n",
       "      <td>0</td>\n",
       "      <td>1</td>\n",
       "      <td>0</td>\n",
       "      <td>0</td>\n",
       "      <td>1</td>\n",
       "    </tr>\n",
       "    <tr>\n",
       "      <th>2135</th>\n",
       "      <td>431725</td>\n",
       "      <td>431725</td>\n",
       "      <td>5526305226</td>\n",
       "      <td>5226.0</td>\n",
       "      <td>166074</td>\n",
       "      <td>5.526305e+09</td>\n",
       "      <td>my</td>\n",
       "      <td>0</td>\n",
       "      <td>1.0</td>\n",
       "      <td>11.0</td>\n",
       "      <td>...</td>\n",
       "      <td>0</td>\n",
       "      <td>0</td>\n",
       "      <td>0</td>\n",
       "      <td>0</td>\n",
       "      <td>0</td>\n",
       "      <td>0</td>\n",
       "      <td>1</td>\n",
       "      <td>0</td>\n",
       "      <td>0</td>\n",
       "      <td>2</td>\n",
       "    </tr>\n",
       "    <tr>\n",
       "      <th>2136</th>\n",
       "      <td>431746</td>\n",
       "      <td>431746</td>\n",
       "      <td>5526305226</td>\n",
       "      <td>5226.0</td>\n",
       "      <td>167369</td>\n",
       "      <td>NaN</td>\n",
       "      <td>group</td>\n",
       "      <td>1</td>\n",
       "      <td>1.0</td>\n",
       "      <td>11.0</td>\n",
       "      <td>...</td>\n",
       "      <td>1</td>\n",
       "      <td>0</td>\n",
       "      <td>0</td>\n",
       "      <td>0</td>\n",
       "      <td>0</td>\n",
       "      <td>0</td>\n",
       "      <td>0</td>\n",
       "      <td>0</td>\n",
       "      <td>1</td>\n",
       "      <td>1</td>\n",
       "    </tr>\n",
       "    <tr>\n",
       "      <th>2137</th>\n",
       "      <td>431773</td>\n",
       "      <td>431773</td>\n",
       "      <td>5526305226</td>\n",
       "      <td>5226.0</td>\n",
       "      <td>168203</td>\n",
       "      <td>NaN</td>\n",
       "      <td>group</td>\n",
       "      <td>0</td>\n",
       "      <td>1.0</td>\n",
       "      <td>11.0</td>\n",
       "      <td>...</td>\n",
       "      <td>1</td>\n",
       "      <td>0</td>\n",
       "      <td>0</td>\n",
       "      <td>0</td>\n",
       "      <td>0</td>\n",
       "      <td>0</td>\n",
       "      <td>1</td>\n",
       "      <td>0</td>\n",
       "      <td>0</td>\n",
       "      <td>1</td>\n",
       "    </tr>\n",
       "  </tbody>\n",
       "</table>\n",
       "<p>2138 rows × 27 columns</p>\n",
       "</div>"
      ],
      "text/plain": [
       "      Unnamed: 0  Unnamed: 0.1      Sender   Child    UMID     Recipient  \\\n",
       "0             76            76  3410302338  2338.0   32022           NaN   \n",
       "1             82            82  3410302338  2338.0   32092           NaN   \n",
       "2            163           163  3410302341  2341.0   31332           NaN   \n",
       "3            238           238  3410302342  2342.0   31681           NaN   \n",
       "4            242           242  3410302342  2342.0   31691           NaN   \n",
       "...          ...           ...         ...     ...     ...           ...   \n",
       "2133      431642        431642  5526305221  5221.0  166156  5.526305e+09   \n",
       "2134      431723        431723  5526305226  5226.0  166069           NaN   \n",
       "2135      431725        431725  5526305226  5226.0  166074  5.526305e+09   \n",
       "2136      431746        431746  5526305226  5226.0  167369           NaN   \n",
       "2137      431773        431773  5526305226  5226.0  168203           NaN   \n",
       "\n",
       "       Type  Likes  Gender   Age  ...  related  slang  brands  diet  meals  \\\n",
       "0     group      2     0.0  10.0  ...        0      0       0     0      0   \n",
       "1     group      1     0.0  10.0  ...        0      0       0     0      0   \n",
       "2     group      2     1.0  11.0  ...        1      0       0     0      0   \n",
       "3     group      1     1.0  10.0  ...        1      0       0     0      0   \n",
       "4     group      1     1.0  10.0  ...        0      0       0     0      0   \n",
       "...     ...    ...     ...   ...  ...      ...    ...     ...   ...    ...   \n",
       "2133     my      0     1.0  10.0  ...        0      0       0     0      0   \n",
       "2134  group      0     1.0  11.0  ...        0      0       0     0      0   \n",
       "2135     my      0     1.0  11.0  ...        0      0       0     0      0   \n",
       "2136  group      1     1.0  11.0  ...        1      0       0     0      0   \n",
       "2137  group      0     1.0  11.0  ...        1      0       0     0      0   \n",
       "\n",
       "      Dmeals  Media_0.0  Media_1.0  Media_2.0  words_no  \n",
       "0          0          1          0          0         3  \n",
       "1          0          1          0          0         3  \n",
       "2          0          0          0          1         1  \n",
       "3          0          1          0          0         1  \n",
       "4          0          1          0          0         1  \n",
       "...      ...        ...        ...        ...       ...  \n",
       "2133       0          1          0          0         1  \n",
       "2134       0          1          0          0         1  \n",
       "2135       0          1          0          0         2  \n",
       "2136       0          0          0          1         1  \n",
       "2137       0          1          0          0         1  \n",
       "\n",
       "[2138 rows x 27 columns]"
      ]
     },
     "execution_count": 8,
     "metadata": {},
     "output_type": "execute_result"
    }
   ],
   "source": [
    "food_buzz_anon"
   ]
  },
  {
   "cell_type": "markdown",
   "metadata": {},
   "source": [
    "# How does youth communicate about food?"
   ]
  },
  {
   "cell_type": "markdown",
   "metadata": {},
   "source": [
    "But which food words occur the most in the data? Lets calculate this for each dictionary individually:"
   ]
  },
  {
   "cell_type": "code",
   "execution_count": 9,
   "metadata": {},
   "outputs": [],
   "source": [
    "tokens = []\n",
    "#for sentences in food_buzz.stem:\n",
    "    #for words in sentences:\n",
    "        #tokens.append(words)\n",
    "        \n",
    "#c = Counter(tokens)\n",
    "\n",
    "\n",
    "#We look at each diet-related dictionary seperately:\n",
    "\n",
    "#unique_words = set(eten_en_drinken3)\n",
    "#d = {k:w for k, w in c.items() if k in unique_words}\n",
    "\n",
    "#unique_words_food = set(foods2)\n",
    "#e = {k:w for k, w in c.items() if k in unique_words_food}\n",
    "\n",
    "\n",
    "#unique_words_drinks = set(drinks2)\n",
    "#f = {k:w for k, w in c.items() if k in unique_words_drinks}\n",
    "\n",
    "#unique_words_diet_related = set(diet_related2)\n",
    "#g = {k:w for k, w in c.items() if k in unique_words_diet_related}\n",
    "\n",
    "\n",
    "#unique_words_supermarkets = set(supermarkets2)\n",
    "#h = {k:w for k, w in c.items() if k in unique_words_supermarkets}\n",
    "\n",
    "\n",
    "#unique_words_dutch_meals = set(dutch_meals2)\n",
    "#i = {k:w for k, w in c.items() if k in unique_words_dutch_meals}\n",
    "\n",
    "\n",
    "#unique_words_meals = set(meals2)\n",
    "#j = {k:w for k, w in c.items() if k in unique_words_meals}\n",
    "\n",
    "\n",
    "#unique_words_restaurants_cafes = set(restaurants_cafes2)\n",
    "#k = {k:w for k, w in c.items() if k in unique_words_restaurants_cafes}\n",
    "\n",
    "\n",
    "#unique_words_internet_slang = set(internet_slang2)\n",
    "#l = {k:w for k, w in c.items() if k in unique_words_internet_slang}\n",
    "\n",
    "\n",
    "\n",
    "#unique_words_diets = set(diets2)\n",
    "#m = {k:w for k, w in c.items() if k in unique_words_diets}\n",
    "\n",
    "\n",
    "#unique_words_food_brands = set(food_brands2)\n",
    "#n = {k:w for k, w in c.items() if k in unique_words_food_brands}\n",
    "\n",
    "#unique_words_popular = set(food_brands2)\n",
    "#n = {k:w for k, w in c.items() if k in unique_words_food_brands}\n"
   ]
  },
  {
   "cell_type": "markdown",
   "metadata": {},
   "source": [
    "Lets sort which word occur the most in the dataset: (exchanging the letter before items will give the results for each dictionary respectively."
   ]
  },
  {
   "cell_type": "code",
   "execution_count": 10,
   "metadata": {},
   "outputs": [],
   "source": [
    "#dict(sorted(d.items(), key=lambda item: item[1]))"
   ]
  },
  {
   "cell_type": "markdown",
   "metadata": {},
   "source": [
    "How would this look like visually? For this analysis we are considering the most often occuring words within the dataset."
   ]
  },
  {
   "cell_type": "code",
   "execution_count": 11,
   "metadata": {},
   "outputs": [],
   "source": [
    "#popular = food_buzz[food_buzz[\"Likes\"] >= 1]\n",
    "#unpopular = food_buzz[food_buzz[\"Likes\"] < 1]"
   ]
  },
  {
   "cell_type": "code",
   "execution_count": 12,
   "metadata": {},
   "outputs": [],
   "source": [
    "#popular2 = []\n",
    "\n",
    "#for topic in popular.stem:\n",
    "    #for word in topic:\n",
    "       #popular2.append(word)\n",
    "        \n",
    "#unpopular2 = []\n",
    "\n",
    "#for topic in unpopular.stem:\n",
    "    #for word in topic:\n",
    "        #unpopular2.append(word)"
   ]
  },
  {
   "cell_type": "code",
   "execution_count": 13,
   "metadata": {},
   "outputs": [],
   "source": [
    "#tokens_popularity = []\n",
    "#for sentences in popular.stem:\n",
    "    #for words in sentences:\n",
    "        #tokens_popularity.append(words)\n",
    "        \n",
    "#tokens_unpopularity = []\n",
    "#for sentences in unpopular.stem:\n",
    "    #for words in sentences:\n",
    "        #tokens_unpopularity.append(words)\n",
    "\n",
    "#ff = Counter(tokens_popularity)\n",
    "#gg = Counter(tokens_unpopularity)\n",
    "\n",
    "#unique_words_popular = set(popular2)\n",
    "#z = {k:w for k, w in ff.items() if k in popular2}\n",
    "\n",
    "#unique_words_unpopular = set(popular2)\n",
    "#zz = {k:w for k, w in gg.items() if k in unpopular2}"
   ]
  },
  {
   "cell_type": "code",
   "execution_count": 14,
   "metadata": {},
   "outputs": [],
   "source": [
    "#wc = WordCloud(background_color=\"white\",width=1000,height=1000, max_words=100,relative_scaling=0.5,normalize_plurals=False).generate_from_frequencies(z)\n",
    "##plt.imshow(wc)"
   ]
  },
  {
   "cell_type": "markdown",
   "metadata": {},
   "source": [
    "This is the resulting word-cloud of the most frequently mentioned diet-related items:"
   ]
  },
  {
   "cell_type": "code",
   "execution_count": 15,
   "metadata": {},
   "outputs": [
    {
     "data": {
      "text/plain": [
       "<matplotlib.image.AxesImage at 0x15b50579048>"
      ]
     },
     "execution_count": 15,
     "metadata": {},
     "output_type": "execute_result"
    },
    {
     "data": {
      "image/png": "[encoded data removed]",
      "text/plain": [
       "<Figure size 432x288 with 1 Axes>"
      ]
     },
     "metadata": {
      "needs_background": "light"
     },
     "output_type": "display_data"
    }
   ],
   "source": [
    "import imageio as iio\n",
    "img = iio.imread(\"Output/wordcloud.png\")\n",
    "plt.imshow(img)"
   ]
  },
  {
   "cell_type": "markdown",
   "metadata": {},
   "source": [
    "# Healthiness of the found words"
   ]
  },
  {
   "cell_type": "markdown",
   "metadata": {},
   "source": [
    "Now we are going to have a look how healthy the foods are which youth talk about. For this we match the words found in youth text with the collected nutriscores of the items:"
   ]
  },
  {
   "cell_type": "code",
   "execution_count": 95,
   "metadata": {},
   "outputs": [],
   "source": [
    "def get_scores2(text):\n",
    "    scores = []\n",
    "    for word in text:\n",
    "        if word in nutriscores.keys():\n",
    "            scores.append(nutriscores[word])\n",
    "        else:\n",
    "            continue\n",
    "    return scores\n",
    "\n",
    "#food_buzz[\"nutriscores\"] = food_buzz['words'].apply(get_scores_2)"
   ]
  },
  {
   "cell_type": "markdown",
   "metadata": {},
   "source": [
    "Lets label messages without nutriscores with an \"NA\", and calculate the mean nutriscore within a message (this was the average of all mentioned dietary items)"
   ]
  },
  {
   "cell_type": "code",
   "execution_count": 17,
   "metadata": {},
   "outputs": [],
   "source": [
    "#food_buzz[\"nutriscores\"] = food_buzz[\"nutriscores\"].apply(lambda x: [y for y in x if y != 'NA'])\n",
    "\n",
    "#food_buzz[\"nutriscore_mean\"] = food_buzz[\"nutriscores\"].apply(np.mean)\n",
    "#food_mean = list(food_buzz[\"nutriscore_mean\"])"
   ]
  },
  {
   "cell_type": "markdown",
   "metadata": {},
   "source": [
    "For demonstration purposes we will load a list of all found nutriscores without the messages:"
   ]
  },
  {
   "cell_type": "code",
   "execution_count": 73,
   "metadata": {},
   "outputs": [],
   "source": [
    "nutriscore_mean = pd.read_csv('Output/nutriscore-mean.csv')\n",
    "nutriscore_mean = nutriscore_mean[\"nutriscore_mean\"]"
   ]
  },
  {
   "cell_type": "code",
   "execution_count": 74,
   "metadata": {},
   "outputs": [
    {
     "name": "stdout",
     "output_type": "stream",
     "text": [
      "The mean nutriscore value is 3.029829106945976 (SD = 1.1283525380659851 )\n"
     ]
    }
   ],
   "source": [
    "print(\"The mean nutriscore value is\", nutriscore_mean.mean(), \"(SD =\", nutriscore_mean.std(), \")\")"
   ]
  },
  {
   "cell_type": "markdown",
   "metadata": {},
   "source": [
    "For even greater insight lets visualize the nutriscore values that we received."
   ]
  },
  {
   "cell_type": "code",
   "execution_count": 76,
   "metadata": {},
   "outputs": [
    {
     "data": {
      "text/plain": [
       "Text(0, 0.5, 'Message Frequency')"
      ]
     },
     "execution_count": 76,
     "metadata": {},
     "output_type": "execute_result"
    },
    {
     "data": {
      "image/png": "[encoded data removed]",
      "text/plain": [
       "<Figure size 432x288 with 1 Axes>"
      ]
     },
     "metadata": {
      "needs_background": "light"
     },
     "output_type": "display_data"
    }
   ],
   "source": [
    "plt.hist(nutriscore_mean, bins=20)\n",
    "plt.xlabel('Message Healhiness: 1 (healthy) - 5 (unhealthy)')\n",
    "plt.ylabel('Message Frequency')\n"
   ]
  },
  {
   "cell_type": "markdown",
   "metadata": {},
   "source": [
    "Although these insights are nice, we paid tribute to the facts, that some nutriscore values had a higher chance of being found in the data, since they also appeared more often in our diet-related dictionary. Therefore we aimed to correct for this and represent nutri-score frequencies, relative to the frequencies in the used dictionary. "
   ]
  },
  {
   "cell_type": "markdown",
   "metadata": {},
   "source": [
    "For this we first calculate the nutriscores in our used dictionary. Also we recode the nutriscore values to a more easily interpretable format, such that negativ values represent unhealthy nutriscores (E-F), 0 represent neutral nutriscore (C) and positive values represent a healthy nutriscores (A-B)"
   ]
  },
  {
   "cell_type": "code",
   "execution_count": 271,
   "metadata": {},
   "outputs": [],
   "source": [
    "nutri = nutriscores.values()\n",
    "\n",
    "nutri = list(nutri)\n",
    "nutri = [num for num in nutri if isinstance(num, (int,float))]"
   ]
  },
  {
   "cell_type": "code",
   "execution_count": 266,
   "metadata": {},
   "outputs": [
    {
     "name": "stdout",
     "output_type": "stream",
     "text": [
      "    nutriscores  frequency  % dic\n",
      "23         -2.0         10   5.13\n",
      "9          -1.8          5   2.56\n",
      "0          -1.6          2   1.03\n",
      "16         -1.5          1   0.51\n",
      "21         -1.4          5   2.56\n",
      "8          -1.2         10   5.13\n",
      "3          -1.0         35  17.95\n",
      "12         -0.8          8   4.10\n",
      "25         -0.6          3   1.54\n",
      "24         -0.5          3   1.54\n",
      "18         -0.4          1   0.51\n",
      "10         -0.3          2   1.03\n",
      "2          -0.2          8   4.10\n",
      "5          -0.0          8   4.10\n",
      "19          0.2          3   1.54\n",
      "26          0.4          1   0.51\n",
      "13          0.5          1   0.51\n",
      "20          0.6          5   2.56\n",
      "14          0.7          1   0.51\n",
      "6           0.8          8   4.10\n",
      "7           1.0         25  12.82\n",
      "22          1.2          6   3.08\n",
      "17          1.4          5   2.56\n",
      "15          1.5          3   1.54\n",
      "1           1.6          6   3.08\n",
      "11          1.8          7   3.59\n",
      "4           2.0         23  11.79\n"
     ]
    }
   ],
   "source": [
    "mean_nutti = Counter(nutri)\n",
    "df2 = pd.DataFrame.from_dict(mean_nutti, orient='index').reset_index()\n",
    "df2 = df2.dropna()\n",
    "df2 = df2.rename(columns={\"index\": \"nutriscores\", 0: \"frequency\"})\n",
    "df2[\"nutriscores\"] = (df2[\"nutriscores\"] - 3 ) * -1\n",
    "df2['% dic'] = ((df2['frequency'] / df2['frequency'].sum())*100).round(2).astype(float)\n",
    "print(df2.sort_values(by = \"nutriscores\"))\n"
   ]
  },
  {
   "cell_type": "markdown",
   "metadata": {},
   "source": [
    "To make scores of the message and dictionary align we round some numbers to the nearest decimal."
   ]
  },
  {
   "cell_type": "code",
   "execution_count": 267,
   "metadata": {},
   "outputs": [],
   "source": [
    "ff = nutriscore_mean\n",
    "\n",
    "for score in ff:\n",
    "    if score == 1.1:\n",
    "        ff = ff.replace(score, 1.0)\n",
    "        \n",
    "    if score == 1.3:\n",
    "        ff = ff.replace(score, 1.4)\n",
    "    if score == 1.7:\n",
    "        ff = ff.replace(score, 1.8)\n",
    "    if score == 1.9:\n",
    "        ff = ff.replace(score, 2.0) \n",
    "    if score == 2.1:\n",
    "        ff = ff.replace(score, 2.0)\n",
    "    if score == 2.7:\n",
    "        ff = ff.replace(score, 2.8)\n",
    "    if score == 2.9:\n",
    "        ff = ff.replace(score, 3.0)\n",
    "    if score == 3.1:\n",
    "        ff = ff.replace(score, 3.0)\n",
    "    if score == 3.7:\n",
    "        ff = ff.replace(score, 3.8)\n",
    "    if score == 3.9:\n",
    "        ff = ff.replace(score, 4.0)\n",
    "    if score == 4.1:\n",
    "        ff = ff.replace(score, 4.0)\n",
    "    if score == 4.3:\n",
    "        ff = ff.replace(score, 4.4)\n",
    "    if score == 4.7:\n",
    "        ff = ff.replace(score, 4.8)\n",
    "    if score == 4.9:\n",
    "        ff = ff.replace(score, 5.0) \n"
   ]
  },
  {
   "cell_type": "markdown",
   "metadata": {},
   "source": [
    "Next we calculate the relative frequency of the nutriscores in the messages and again repeat the re-coding of nutriscore values-"
   ]
  },
  {
   "cell_type": "code",
   "execution_count": 268,
   "metadata": {},
   "outputs": [
    {
     "name": "stdout",
     "output_type": "stream",
     "text": [
      "      nutriscores  frequency  % full\n",
      "44      -2.000000         24    2.65\n",
      "217     -1.800000          5    0.55\n",
      "1131    -1.600000          2    0.22\n",
      "394     -1.500000          1    0.11\n",
      "3       -1.400000         37    4.08\n",
      "140     -1.200000         30    3.31\n",
      "193     -1.133333          1    0.11\n",
      "5       -1.000000        267   29.44\n",
      "37      -0.800000         24    2.65\n",
      "511     -0.666667          1    0.11\n",
      "194     -0.600000         23    2.54\n",
      "34      -0.500000         23    2.54\n",
      "0       -0.400000          2    0.22\n",
      "1233    -0.333333          1    0.11\n",
      "112     -0.300000          2    0.22\n",
      "9       -0.200000         16    1.76\n",
      "393     -0.180000          1    0.11\n",
      "348     -0.050000          1    0.11\n",
      "11      -0.000000         83    9.15\n",
      "630      0.125000          1    0.11\n",
      "795      0.133333          1    0.11\n",
      "241      0.150000          3    0.33\n",
      "431      0.200000          9    0.99\n",
      "631      0.250000          1    0.11\n",
      "10       0.400000          6    0.66\n",
      "12       0.500000          3    0.33\n",
      "30       0.575000          1    0.11\n",
      "221      0.600000         21    2.32\n",
      "370      0.700000          2    0.22\n",
      "159      0.766667          1    0.11\n",
      "137      0.800000         13    1.43\n",
      "954      0.850000          1    0.11\n",
      "865      0.925000          1    0.11\n",
      "42       1.000000        134   14.77\n",
      "78       1.200000         26    2.87\n",
      "1100     1.333333          1    0.11\n",
      "70       1.400000         27    2.98\n",
      "848      1.450000          1    0.11\n",
      "60       1.500000         22    2.43\n",
      "6        1.600000          8    0.88\n",
      "98       1.700000          1    0.11\n",
      "669      1.750000          1    0.11\n",
      "7        1.800000         23    2.54\n",
      "33       2.000000         55    6.06\n"
     ]
    }
   ],
   "source": [
    "counter = Counter(ff)\n",
    "df3 = pd.DataFrame.from_dict(counter, orient='index').reset_index()\n",
    "df3 = df3.dropna()\n",
    "df3 = df3.rename(columns={\"index\": \"nutriscores\", 0: \"frequency\"})\n",
    "df3[\"nutriscores\"] = (df3[\"nutriscores\"] - 3 ) * -1\n",
    "df3['% full'] = ((df3['frequency'] / df3['frequency'].sum())*100).round(2).astype(float)\n",
    "print(df3.sort_values(by = \"nutriscores\"))"
   ]
  },
  {
   "cell_type": "markdown",
   "metadata": {},
   "source": [
    "And we merge them with the relative frequencies found in the dictionary and in the messages:"
   ]
  },
  {
   "cell_type": "code",
   "execution_count": null,
   "metadata": {},
   "outputs": [],
   "source": []
  },
  {
   "cell_type": "code",
   "execution_count": 269,
   "metadata": {},
   "outputs": [
    {
     "data": {
      "text/html": [
       "<div>\n",
       "<style scoped>\n",
       "    .dataframe tbody tr th:only-of-type {\n",
       "        vertical-align: middle;\n",
       "    }\n",
       "\n",
       "    .dataframe tbody tr th {\n",
       "        vertical-align: top;\n",
       "    }\n",
       "\n",
       "    .dataframe thead th {\n",
       "        text-align: right;\n",
       "    }\n",
       "</style>\n",
       "<table border=\"1\" class=\"dataframe\">\n",
       "  <thead>\n",
       "    <tr style=\"text-align: right;\">\n",
       "      <th></th>\n",
       "      <th>nutriscores</th>\n",
       "      <th>frequency_x</th>\n",
       "      <th>% full</th>\n",
       "      <th>frequency_y</th>\n",
       "      <th>% dic</th>\n",
       "      <th>% difference</th>\n",
       "    </tr>\n",
       "  </thead>\n",
       "  <tbody>\n",
       "    <tr>\n",
       "      <th>13</th>\n",
       "      <td>-2.0</td>\n",
       "      <td>24</td>\n",
       "      <td>2.65</td>\n",
       "      <td>10</td>\n",
       "      <td>5.13</td>\n",
       "      <td>-2.48</td>\n",
       "    </tr>\n",
       "    <tr>\n",
       "      <th>21</th>\n",
       "      <td>-1.8</td>\n",
       "      <td>5</td>\n",
       "      <td>0.55</td>\n",
       "      <td>5</td>\n",
       "      <td>2.56</td>\n",
       "      <td>-2.01</td>\n",
       "    </tr>\n",
       "    <tr>\n",
       "      <th>26</th>\n",
       "      <td>-1.6</td>\n",
       "      <td>2</td>\n",
       "      <td>0.22</td>\n",
       "      <td>2</td>\n",
       "      <td>1.03</td>\n",
       "      <td>-0.81</td>\n",
       "    </tr>\n",
       "    <tr>\n",
       "      <th>24</th>\n",
       "      <td>-1.5</td>\n",
       "      <td>1</td>\n",
       "      <td>0.11</td>\n",
       "      <td>1</td>\n",
       "      <td>0.51</td>\n",
       "      <td>-0.40</td>\n",
       "    </tr>\n",
       "    <tr>\n",
       "      <th>1</th>\n",
       "      <td>-1.4</td>\n",
       "      <td>37</td>\n",
       "      <td>4.08</td>\n",
       "      <td>5</td>\n",
       "      <td>2.56</td>\n",
       "      <td>1.52</td>\n",
       "    </tr>\n",
       "    <tr>\n",
       "      <th>19</th>\n",
       "      <td>-1.2</td>\n",
       "      <td>30</td>\n",
       "      <td>3.31</td>\n",
       "      <td>10</td>\n",
       "      <td>5.13</td>\n",
       "      <td>-1.82</td>\n",
       "    </tr>\n",
       "    <tr>\n",
       "      <th>2</th>\n",
       "      <td>-1.0</td>\n",
       "      <td>267</td>\n",
       "      <td>29.44</td>\n",
       "      <td>35</td>\n",
       "      <td>17.95</td>\n",
       "      <td>11.49</td>\n",
       "    </tr>\n",
       "    <tr>\n",
       "      <th>11</th>\n",
       "      <td>-0.8</td>\n",
       "      <td>24</td>\n",
       "      <td>2.65</td>\n",
       "      <td>8</td>\n",
       "      <td>4.10</td>\n",
       "      <td>-1.45</td>\n",
       "    </tr>\n",
       "    <tr>\n",
       "      <th>20</th>\n",
       "      <td>-0.6</td>\n",
       "      <td>23</td>\n",
       "      <td>2.54</td>\n",
       "      <td>3</td>\n",
       "      <td>1.54</td>\n",
       "      <td>1.00</td>\n",
       "    </tr>\n",
       "    <tr>\n",
       "      <th>10</th>\n",
       "      <td>-0.5</td>\n",
       "      <td>23</td>\n",
       "      <td>2.54</td>\n",
       "      <td>3</td>\n",
       "      <td>1.54</td>\n",
       "      <td>1.00</td>\n",
       "    </tr>\n",
       "    <tr>\n",
       "      <th>0</th>\n",
       "      <td>-0.4</td>\n",
       "      <td>2</td>\n",
       "      <td>0.22</td>\n",
       "      <td>1</td>\n",
       "      <td>0.51</td>\n",
       "      <td>-0.29</td>\n",
       "    </tr>\n",
       "    <tr>\n",
       "      <th>17</th>\n",
       "      <td>-0.3</td>\n",
       "      <td>2</td>\n",
       "      <td>0.22</td>\n",
       "      <td>2</td>\n",
       "      <td>1.03</td>\n",
       "      <td>-0.81</td>\n",
       "    </tr>\n",
       "    <tr>\n",
       "      <th>5</th>\n",
       "      <td>-0.2</td>\n",
       "      <td>16</td>\n",
       "      <td>1.76</td>\n",
       "      <td>8</td>\n",
       "      <td>4.10</td>\n",
       "      <td>-2.34</td>\n",
       "    </tr>\n",
       "    <tr>\n",
       "      <th>7</th>\n",
       "      <td>-0.0</td>\n",
       "      <td>83</td>\n",
       "      <td>9.15</td>\n",
       "      <td>8</td>\n",
       "      <td>4.10</td>\n",
       "      <td>5.05</td>\n",
       "    </tr>\n",
       "    <tr>\n",
       "      <th>25</th>\n",
       "      <td>0.2</td>\n",
       "      <td>9</td>\n",
       "      <td>0.99</td>\n",
       "      <td>3</td>\n",
       "      <td>1.54</td>\n",
       "      <td>-0.55</td>\n",
       "    </tr>\n",
       "    <tr>\n",
       "      <th>6</th>\n",
       "      <td>0.4</td>\n",
       "      <td>6</td>\n",
       "      <td>0.66</td>\n",
       "      <td>1</td>\n",
       "      <td>0.51</td>\n",
       "      <td>0.15</td>\n",
       "    </tr>\n",
       "    <tr>\n",
       "      <th>8</th>\n",
       "      <td>0.5</td>\n",
       "      <td>3</td>\n",
       "      <td>0.33</td>\n",
       "      <td>1</td>\n",
       "      <td>0.51</td>\n",
       "      <td>-0.18</td>\n",
       "    </tr>\n",
       "    <tr>\n",
       "      <th>22</th>\n",
       "      <td>0.6</td>\n",
       "      <td>21</td>\n",
       "      <td>2.32</td>\n",
       "      <td>5</td>\n",
       "      <td>2.56</td>\n",
       "      <td>-0.24</td>\n",
       "    </tr>\n",
       "    <tr>\n",
       "      <th>23</th>\n",
       "      <td>0.7</td>\n",
       "      <td>2</td>\n",
       "      <td>0.22</td>\n",
       "      <td>1</td>\n",
       "      <td>0.51</td>\n",
       "      <td>-0.29</td>\n",
       "    </tr>\n",
       "    <tr>\n",
       "      <th>18</th>\n",
       "      <td>0.8</td>\n",
       "      <td>13</td>\n",
       "      <td>1.43</td>\n",
       "      <td>8</td>\n",
       "      <td>4.10</td>\n",
       "      <td>-2.67</td>\n",
       "    </tr>\n",
       "    <tr>\n",
       "      <th>12</th>\n",
       "      <td>1.0</td>\n",
       "      <td>134</td>\n",
       "      <td>14.77</td>\n",
       "      <td>25</td>\n",
       "      <td>12.82</td>\n",
       "      <td>1.95</td>\n",
       "    </tr>\n",
       "    <tr>\n",
       "      <th>16</th>\n",
       "      <td>1.2</td>\n",
       "      <td>26</td>\n",
       "      <td>2.87</td>\n",
       "      <td>6</td>\n",
       "      <td>3.08</td>\n",
       "      <td>-0.21</td>\n",
       "    </tr>\n",
       "    <tr>\n",
       "      <th>15</th>\n",
       "      <td>1.4</td>\n",
       "      <td>27</td>\n",
       "      <td>2.98</td>\n",
       "      <td>5</td>\n",
       "      <td>2.56</td>\n",
       "      <td>0.42</td>\n",
       "    </tr>\n",
       "    <tr>\n",
       "      <th>14</th>\n",
       "      <td>1.5</td>\n",
       "      <td>22</td>\n",
       "      <td>2.43</td>\n",
       "      <td>3</td>\n",
       "      <td>1.54</td>\n",
       "      <td>0.89</td>\n",
       "    </tr>\n",
       "    <tr>\n",
       "      <th>3</th>\n",
       "      <td>1.6</td>\n",
       "      <td>8</td>\n",
       "      <td>0.88</td>\n",
       "      <td>6</td>\n",
       "      <td>3.08</td>\n",
       "      <td>-2.20</td>\n",
       "    </tr>\n",
       "    <tr>\n",
       "      <th>4</th>\n",
       "      <td>1.8</td>\n",
       "      <td>23</td>\n",
       "      <td>2.54</td>\n",
       "      <td>7</td>\n",
       "      <td>3.59</td>\n",
       "      <td>-1.05</td>\n",
       "    </tr>\n",
       "    <tr>\n",
       "      <th>9</th>\n",
       "      <td>2.0</td>\n",
       "      <td>55</td>\n",
       "      <td>6.06</td>\n",
       "      <td>23</td>\n",
       "      <td>11.79</td>\n",
       "      <td>-5.73</td>\n",
       "    </tr>\n",
       "  </tbody>\n",
       "</table>\n",
       "</div>"
      ],
      "text/plain": [
       "    nutriscores  frequency_x  % full  frequency_y  % dic  % difference\n",
       "13         -2.0           24    2.65           10   5.13         -2.48\n",
       "21         -1.8            5    0.55            5   2.56         -2.01\n",
       "26         -1.6            2    0.22            2   1.03         -0.81\n",
       "24         -1.5            1    0.11            1   0.51         -0.40\n",
       "1          -1.4           37    4.08            5   2.56          1.52\n",
       "19         -1.2           30    3.31           10   5.13         -1.82\n",
       "2          -1.0          267   29.44           35  17.95         11.49\n",
       "11         -0.8           24    2.65            8   4.10         -1.45\n",
       "20         -0.6           23    2.54            3   1.54          1.00\n",
       "10         -0.5           23    2.54            3   1.54          1.00\n",
       "0          -0.4            2    0.22            1   0.51         -0.29\n",
       "17         -0.3            2    0.22            2   1.03         -0.81\n",
       "5          -0.2           16    1.76            8   4.10         -2.34\n",
       "7          -0.0           83    9.15            8   4.10          5.05\n",
       "25          0.2            9    0.99            3   1.54         -0.55\n",
       "6           0.4            6    0.66            1   0.51          0.15\n",
       "8           0.5            3    0.33            1   0.51         -0.18\n",
       "22          0.6           21    2.32            5   2.56         -0.24\n",
       "23          0.7            2    0.22            1   0.51         -0.29\n",
       "18          0.8           13    1.43            8   4.10         -2.67\n",
       "12          1.0          134   14.77           25  12.82          1.95\n",
       "16          1.2           26    2.87            6   3.08         -0.21\n",
       "15          1.4           27    2.98            5   2.56          0.42\n",
       "14          1.5           22    2.43            3   1.54          0.89\n",
       "3           1.6            8    0.88            6   3.08         -2.20\n",
       "4           1.8           23    2.54            7   3.59         -1.05\n",
       "9           2.0           55    6.06           23  11.79         -5.73"
      ]
     },
     "execution_count": 269,
     "metadata": {},
     "output_type": "execute_result"
    }
   ],
   "source": [
    "df_complete = df3.merge(df2, on = \"nutriscores\")\n",
    "df_complete[\"% difference\"] = df_complete[\"% full\"] - df_complete[\"% dic\"]\n",
    "df_complete = df_complete.sort_values(by = \"nutriscores\")\n",
    "df_complete"
   ]
  },
  {
   "cell_type": "markdown",
   "metadata": {},
   "source": [
    "Not finally we can plot the nutriscore values, relative to their expected frequencies based on the dictionary:"
   ]
  },
  {
   "cell_type": "code",
   "execution_count": 270,
   "metadata": {},
   "outputs": [
    {
     "data": {
      "image/png": "[encoded data removed]",
      "text/plain": [
       "<Figure size 960x480 with 1 Axes>"
      ]
     },
     "metadata": {
      "needs_background": "light"
     },
     "output_type": "display_data"
    }
   ],
   "source": [
    "import matplotlib.pyplot as plt\n",
    "from matplotlib.pyplot import figure\n",
    "from scipy import interpolate\n",
    "\n",
    "figure(figsize=(12, 6), dpi=80)\n",
    "x = df_complete[\"nutriscores\"]\n",
    "\n",
    "# create an index for each tick position\n",
    "xi = list(range(len(x)))\n",
    "y = df_complete[\"% difference\"]\n",
    "plt.ylim(-7,15.0)\n",
    "# plot the index for the x-values\n",
    "m, b = np.polyfit(x, y, 1)\n",
    "plt.plot(xi, m*x + b, color = \"lightgreen\", label = \"Least Square Regression Line\")\n",
    "\n",
    "plt.plot(xi, y, marker='o', linestyle='-', color='b', label='Mean Difference / Healthiness') \n",
    "plt.axhline(y=0, color='lightgrey', linestyle='--')\n",
    "plt.xticks(xi, round(x, 1))\n",
    "plt.xlabel('Healthiness Values\\n -2: very unhealthy to 2: very healthy')\n",
    "plt.ylabel('Mean Difference in %') \n",
    "\n",
    "poly = np.polyfit(x, y, 3)\n",
    "poly_y = np.poly1d(poly)(x)\n",
    "#plt.plot(xi,poly_y, color = \"orange\", label = \"Polygon Frequency\")\n",
    "\n",
    "\n",
    "x_new = np.linspace(0, 27, 15)\n",
    "a_BSpline = interpolate.make_interp_spline(xi, y)\n",
    "y_new = a_BSpline(x_new)\n",
    "\n",
    "#plt.plot(x_new, y_new, label='Mean Difference / Healthiness')\n",
    "plt.title('Difference between Expected and Found Healthiness Values')\n",
    "plt.legend()\n",
    "plt.show()"
   ]
  },
  {
   "cell_type": "markdown",
   "metadata": {},
   "source": [
    "Next we checked if the healthiness of a message was able to predict the number of like that a message received:"
   ]
  },
  {
   "cell_type": "code",
   "execution_count": 312,
   "metadata": {},
   "outputs": [],
   "source": [
    "#regression = sm.ols(formula=\"Likes ~ nutriscore_mean + Age + Gender\", data=food_buzz).fit()\n",
    "#print(regression.summary())"
   ]
  },
  {
   "cell_type": "markdown",
   "metadata": {},
   "source": [
    "The results did not show any significant results."
   ]
  },
  {
   "cell_type": "markdown",
   "metadata": {},
   "source": [
    "# Sentiment"
   ]
  },
  {
   "cell_type": "markdown",
   "metadata": {},
   "source": [
    "Okay, now lets look if unhealthy / healthy food communication differs in other dimensions. e.g. in terms of their sentiment expressed. The pattern library captures both polarity (pos vs neg.) as well as the subjectivity of the message."
   ]
  },
  {
   "cell_type": "code",
   "execution_count": 295,
   "metadata": {},
   "outputs": [],
   "source": [
    "from pattern.nl import sentiment\n"
   ]
  },
  {
   "cell_type": "markdown",
   "metadata": {},
   "source": [
    "Lets test out how/if this works:"
   ]
  },
  {
   "cell_type": "code",
   "execution_count": 296,
   "metadata": {},
   "outputs": [
    {
     "name": "stdout",
     "output_type": "stream",
     "text": [
      "(0.94, 1.0)\n",
      "(-0.024999999999999967, 0.925)\n",
      "(0.0, 0.0)\n"
     ]
    }
   ],
   "source": [
    "print(sentiment(\"ik ben heel blij en het is super leuk\"))\n",
    "print(sentiment(\"Ik ben blij en en beetje verdrietig\"))\n",
    "print(sentiment(\"gf fgf fgfg fgfgfg\"))"
   ]
  },
  {
   "cell_type": "markdown",
   "metadata": {},
   "source": [
    "Now we can calculate the sentiment for each text for healthy or unhealthy text messages:"
   ]
  },
  {
   "cell_type": "code",
   "execution_count": 297,
   "metadata": {},
   "outputs": [],
   "source": [
    "#food_buzz[['polarity', 'subjectivity']] = food_buzz['Text'].apply(lambda Text: pd.Series(sentiment(Text)))\n",
    "\n",
    "#sentiment = list(food_buzz.polarity)\n",
    "#sentiment2 = [x for x in sentiment if x != 0]\n",
    "#sentiment_df = pd.DataFrame(sentiment2)\n",
    "\n",
    "#subj = list(food_buzz.subjectivity)\n",
    "#subj2 = [x for x in subj if x != 0]\n",
    "#subj_df = pd.DataFrame(subj2)"
   ]
  },
  {
   "cell_type": "markdown",
   "metadata": {},
   "source": [
    "Lets load the pure values for demonstration purposes:"
   ]
  },
  {
   "cell_type": "code",
   "execution_count": 298,
   "metadata": {},
   "outputs": [],
   "source": [
    "sentiment_df = pd.read_csv(\"Output/sentiment.csv\")\n",
    "sentiment_df = sentiment_df[\"0\"]\n",
    "subj_df = pd.read_csv(\"Output/subjectivity.csv\")\n",
    "subj_df = subj_df[\"0\"]"
   ]
  },
  {
   "cell_type": "code",
   "execution_count": 299,
   "metadata": {},
   "outputs": [
    {
     "name": "stdout",
     "output_type": "stream",
     "text": [
      "The average sentiment of message is 0.24861280614952885 SD =  0.46760895182667717 and the average subjective is 0.7761537444283851 SD =  0.22492937508877076\n"
     ]
    }
   ],
   "source": [
    "print(\"The average sentiment of message is\", sentiment_df.mean(), \"SD = \", sentiment_df.std(), \"and the average subjective is\", subj_df.mean(), \"SD = \", subj_df.std())"
   ]
  },
  {
   "cell_type": "markdown",
   "metadata": {},
   "source": [
    "Now we can visualize the sentiment and subjectivity scores:"
   ]
  },
  {
   "cell_type": "code",
   "execution_count": 284,
   "metadata": {},
   "outputs": [
    {
     "data": {
      "text/plain": [
       "Text(0.5, 1.0, 'Message Sentiment')"
      ]
     },
     "execution_count": 284,
     "metadata": {},
     "output_type": "execute_result"
    },
    {
     "data": {
      "image/png": "[encoded data removed]",
      "text/plain": [
       "<Figure size 432x288 with 1 Axes>"
      ]
     },
     "metadata": {
      "needs_background": "light"
     },
     "output_type": "display_data"
    }
   ],
   "source": [
    "sentiment_df.hist(bins = 20, color =\"cornflowerblue\")\n",
    "plt.xlabel('Message Sentiment:\\n-1 (very negative) - +1 (very positive)')\n",
    "plt.ylabel('Message Frequency')\n",
    "plt.title(\"Message Sentiment\")"
   ]
  },
  {
   "cell_type": "code",
   "execution_count": 285,
   "metadata": {},
   "outputs": [
    {
     "data": {
      "text/plain": [
       "Text(0.5, 1.0, 'Message Subjectivity')"
      ]
     },
     "execution_count": 285,
     "metadata": {},
     "output_type": "execute_result"
    },
    {
     "data": {
      "image/png": "[encoded data removed]",
      "text/plain": [
       "<Figure size 432x288 with 1 Axes>"
      ]
     },
     "metadata": {
      "needs_background": "light"
     },
     "output_type": "display_data"
    }
   ],
   "source": [
    "subj_df.hist(bins = 20, color = \"cornflowerblue\", histtype = \"bar\")\n",
    "plt.xlabel('Message Subjectivity:\\n 0 (<<<very objective) - +1 (very subjective)')\n",
    "plt.ylabel('Message Frequency')\n",
    "plt.title(\"Message Subjectivity\")"
   ]
  },
  {
   "cell_type": "markdown",
   "metadata": {},
   "source": [
    "Next we check if sentiment or subjectivity is able to predict the number of likes that a message receives:"
   ]
  },
  {
   "cell_type": "code",
   "execution_count": 311,
   "metadata": {},
   "outputs": [],
   "source": [
    "#regression = sm.ols(formula=\"Likes ~ polarity + subjectivity + Age + Gender\", data=food_buzz).fit()\n",
    "#print(regression.summary())"
   ]
  },
  {
   "cell_type": "markdown",
   "metadata": {},
   "source": [
    "Both, message sentiment (b = .08, p = .001) and message subjectivity (b = .07, p = .007) emerged as small, positive predictors of message liking. "
   ]
  },
  {
   "cell_type": "markdown",
   "metadata": {},
   "source": [
    "# LIWC"
   ]
  },
  {
   "cell_type": "markdown",
   "metadata": {},
   "source": [
    "Lets dive a little deeper into the data and see how it might differ. For this we use the tool LWIC2015 with a Dutch dictionary. We are analysis the categories: affect, cognitive processes, epreption, biological needs, positive emotion, negative emotion within the data."
   ]
  },
  {
   "cell_type": "code",
   "execution_count": 287,
   "metadata": {},
   "outputs": [],
   "source": [
    "#lwic = pd.read_csv(\"Output/food_buzz_topics.csv\", engine = \"python\", encoding='utf-8', decimal = \",\")\n",
    "\n",
    "#Lets load an anonymized versiob of this dataset:\n",
    "\n",
    "lwic = pd.read_csv((\"Output/liwc_anon.csv\"))"
   ]
  },
  {
   "cell_type": "code",
   "execution_count": 313,
   "metadata": {},
   "outputs": [
    {
     "data": {
      "text/html": [
       "<div>\n",
       "<style scoped>\n",
       "    .dataframe tbody tr th:only-of-type {\n",
       "        vertical-align: middle;\n",
       "    }\n",
       "\n",
       "    .dataframe tbody tr th {\n",
       "        vertical-align: top;\n",
       "    }\n",
       "\n",
       "    .dataframe thead th {\n",
       "        text-align: right;\n",
       "    }\n",
       "</style>\n",
       "<table border=\"1\" class=\"dataframe\">\n",
       "  <thead>\n",
       "    <tr style=\"text-align: right;\">\n",
       "      <th></th>\n",
       "      <th>Unnamed: 0</th>\n",
       "      <th>Unnamed: 0.1</th>\n",
       "      <th>Unnamed: 0.1.1</th>\n",
       "      <th>Unnamed: 0.1.1.1</th>\n",
       "      <th>Unnamed: 0.1.1.1.1</th>\n",
       "      <th>Sender</th>\n",
       "      <th>Child</th>\n",
       "      <th>UMID</th>\n",
       "      <th>Recipient</th>\n",
       "      <th>Type</th>\n",
       "      <th>...</th>\n",
       "      <th>Dash</th>\n",
       "      <th>Quote</th>\n",
       "      <th>Apostro</th>\n",
       "      <th>Parenth</th>\n",
       "      <th>OtherP</th>\n",
       "      <th>Document_No</th>\n",
       "      <th>Dominant_Topic</th>\n",
       "      <th>Topic_Perc_Contrib</th>\n",
       "      <th>Keywords</th>\n",
       "      <th>broad_filter_clean</th>\n",
       "    </tr>\n",
       "  </thead>\n",
       "  <tbody>\n",
       "    <tr>\n",
       "      <th>0</th>\n",
       "      <td>0</td>\n",
       "      <td>0</td>\n",
       "      <td>0</td>\n",
       "      <td>0</td>\n",
       "      <td>76</td>\n",
       "      <td>3410302338</td>\n",
       "      <td>2338.0</td>\n",
       "      <td>32022</td>\n",
       "      <td>NaN</td>\n",
       "      <td>group</td>\n",
       "      <td>...</td>\n",
       "      <td>0.0</td>\n",
       "      <td>0.0</td>\n",
       "      <td>0.0</td>\n",
       "      <td>0.0</td>\n",
       "      <td>0.0</td>\n",
       "      <td>0</td>\n",
       "      <td>21.0</td>\n",
       "      <td>0.3156</td>\n",
       "      <td>kaas, besselink, romy, hesselink, ronnie, zeg,...</td>\n",
       "      <td>['ham', 'kaas', 'tosti']</td>\n",
       "    </tr>\n",
       "    <tr>\n",
       "      <th>1</th>\n",
       "      <td>1</td>\n",
       "      <td>1</td>\n",
       "      <td>1</td>\n",
       "      <td>1</td>\n",
       "      <td>82</td>\n",
       "      <td>3410302338</td>\n",
       "      <td>2338.0</td>\n",
       "      <td>32092</td>\n",
       "      <td>NaN</td>\n",
       "      <td>group</td>\n",
       "      <td>...</td>\n",
       "      <td>0.0</td>\n",
       "      <td>0.0</td>\n",
       "      <td>0.0</td>\n",
       "      <td>0.0</td>\n",
       "      <td>0.0</td>\n",
       "      <td>1</td>\n",
       "      <td>21.0</td>\n",
       "      <td>0.2909</td>\n",
       "      <td>kaas, besselink, romy, hesselink, ronnie, zeg,...</td>\n",
       "      <td>['ham', 'kaas', 'tosti', 'like']</td>\n",
       "    </tr>\n",
       "    <tr>\n",
       "      <th>2</th>\n",
       "      <td>2</td>\n",
       "      <td>2</td>\n",
       "      <td>2</td>\n",
       "      <td>2</td>\n",
       "      <td>163</td>\n",
       "      <td>3410302341</td>\n",
       "      <td>2341.0</td>\n",
       "      <td>31332</td>\n",
       "      <td>NaN</td>\n",
       "      <td>group</td>\n",
       "      <td>...</td>\n",
       "      <td>0.0</td>\n",
       "      <td>0.0</td>\n",
       "      <td>0.0</td>\n",
       "      <td>0.0</td>\n",
       "      <td>0.0</td>\n",
       "      <td>2</td>\n",
       "      <td>30.0</td>\n",
       "      <td>0.5091</td>\n",
       "      <td>honger, stuur, doe, klaar, gegeten, zitten, kl...</td>\n",
       "      <td>['honger']</td>\n",
       "    </tr>\n",
       "    <tr>\n",
       "      <th>3</th>\n",
       "      <td>3</td>\n",
       "      <td>3</td>\n",
       "      <td>3</td>\n",
       "      <td>3</td>\n",
       "      <td>238</td>\n",
       "      <td>3410302342</td>\n",
       "      <td>2342.0</td>\n",
       "      <td>31681</td>\n",
       "      <td>NaN</td>\n",
       "      <td>group</td>\n",
       "      <td>...</td>\n",
       "      <td>0.0</td>\n",
       "      <td>0.0</td>\n",
       "      <td>0.0</td>\n",
       "      <td>0.0</td>\n",
       "      <td>0.0</td>\n",
       "      <td>3</td>\n",
       "      <td>37.0</td>\n",
       "      <td>0.0211</td>\n",
       "      <td>eet, taart, stukje, poepen, opeten, zei, mond,...</td>\n",
       "      <td>['kort', 'pittig']</td>\n",
       "    </tr>\n",
       "    <tr>\n",
       "      <th>4</th>\n",
       "      <td>4</td>\n",
       "      <td>4</td>\n",
       "      <td>4</td>\n",
       "      <td>4</td>\n",
       "      <td>242</td>\n",
       "      <td>3410302342</td>\n",
       "      <td>2342.0</td>\n",
       "      <td>31691</td>\n",
       "      <td>NaN</td>\n",
       "      <td>group</td>\n",
       "      <td>...</td>\n",
       "      <td>0.0</td>\n",
       "      <td>0.0</td>\n",
       "      <td>0.0</td>\n",
       "      <td>0.0</td>\n",
       "      <td>0.0</td>\n",
       "      <td>4</td>\n",
       "      <td>37.0</td>\n",
       "      <td>0.0211</td>\n",
       "      <td>eet, taart, stukje, poepen, opeten, zei, mond,...</td>\n",
       "      <td>['snoep']</td>\n",
       "    </tr>\n",
       "  </tbody>\n",
       "</table>\n",
       "<p>5 rows × 167 columns</p>\n",
       "</div>"
      ],
      "text/plain": [
       "   Unnamed: 0  Unnamed: 0.1  Unnamed: 0.1.1  Unnamed: 0.1.1.1  \\\n",
       "0           0             0               0                 0   \n",
       "1           1             1               1                 1   \n",
       "2           2             2               2                 2   \n",
       "3           3             3               3                 3   \n",
       "4           4             4               4                 4   \n",
       "\n",
       "   Unnamed: 0.1.1.1.1      Sender   Child   UMID  Recipient   Type  ...  Dash  \\\n",
       "0                  76  3410302338  2338.0  32022        NaN  group  ...   0.0   \n",
       "1                  82  3410302338  2338.0  32092        NaN  group  ...   0.0   \n",
       "2                 163  3410302341  2341.0  31332        NaN  group  ...   0.0   \n",
       "3                 238  3410302342  2342.0  31681        NaN  group  ...   0.0   \n",
       "4                 242  3410302342  2342.0  31691        NaN  group  ...   0.0   \n",
       "\n",
       "   Quote  Apostro  Parenth  OtherP  Document_No  Dominant_Topic  \\\n",
       "0    0.0      0.0      0.0     0.0            0            21.0   \n",
       "1    0.0      0.0      0.0     0.0            1            21.0   \n",
       "2    0.0      0.0      0.0     0.0            2            30.0   \n",
       "3    0.0      0.0      0.0     0.0            3            37.0   \n",
       "4    0.0      0.0      0.0     0.0            4            37.0   \n",
       "\n",
       "   Topic_Perc_Contrib                                           Keywords  \\\n",
       "0              0.3156  kaas, besselink, romy, hesselink, ronnie, zeg,...   \n",
       "1              0.2909  kaas, besselink, romy, hesselink, ronnie, zeg,...   \n",
       "2              0.5091  honger, stuur, doe, klaar, gegeten, zitten, kl...   \n",
       "3              0.0211  eet, taart, stukje, poepen, opeten, zei, mond,...   \n",
       "4              0.0211  eet, taart, stukje, poepen, opeten, zei, mond,...   \n",
       "\n",
       "                 broad_filter_clean  \n",
       "0          ['ham', 'kaas', 'tosti']  \n",
       "1  ['ham', 'kaas', 'tosti', 'like']  \n",
       "2                        ['honger']  \n",
       "3                ['kort', 'pittig']  \n",
       "4                         ['snoep']  \n",
       "\n",
       "[5 rows x 167 columns]"
      ]
     },
     "execution_count": 313,
     "metadata": {},
     "output_type": "execute_result"
    }
   ],
   "source": [
    "lwic[:5]"
   ]
  },
  {
   "cell_type": "markdown",
   "metadata": {},
   "source": [
    "We filter out the relevant LIWC variables for our analysis (affect, drives, social-, cognitive-, perceptual-, and biological processes), as well as removing zero-scores:"
   ]
  },
  {
   "cell_type": "code",
   "execution_count": 289,
   "metadata": {},
   "outputs": [
    {
     "name": "stdout",
     "output_type": "stream",
     "text": [
      "We have 461 affect scores.\n",
      "We have 807 scores for social processes\n",
      "We have 755 scores for cognitive processes\n",
      "We have 365 scores for perceptional processes.\n",
      "We have 376 scores for drives.\n",
      "We have 1592 scores for biological processes.\n"
     ]
    }
   ],
   "source": [
    "affect1 = list(lwic[\"affect\"])\n",
    "social1 = list(lwic[\"social\"])\n",
    "cogproc1 = list(lwic[\"cogproc\"])\n",
    "percept1 = list(lwic[\"percept\"])\n",
    "bio1 = list(lwic[\"bio\"])\n",
    "drives1 = list(lwic[\"drives\"])\n",
    "\n",
    "affect =  [x for x in affect1 if x != 0]\n",
    "social =  [x for x in social1 if x != 0]\n",
    "cogproc =  [x for x in cogproc1 if x != 0]\n",
    "percept =  [x for x in percept1 if x != 0]\n",
    "drives =  [x for x in drives1 if x != 0]\n",
    "bio =  [x for x in bio1 if x != 0]\n",
    "\n",
    "print(\"We have\", len(affect), \"affect scores.\")\n",
    "print(\"We have\", len(social), \"scores for social processes\")\n",
    "print(\"We have\", len(cogproc), \"scores for cognitive processes\")\n",
    "print(\"We have\", len(percept), \"scores for perceptional processes.\")\n",
    "print(\"We have\", len(drives), \"scores for drives.\")\n",
    "print(\"We have\", len(bio), \"scores for biological processes.\")\n",
    "\n",
    "\n"
   ]
  },
  {
   "cell_type": "code",
   "execution_count": 290,
   "metadata": {},
   "outputs": [],
   "source": [
    "lwic = lwic.rename(columns={'Likes_x': 'Likes'})"
   ]
  },
  {
   "cell_type": "markdown",
   "metadata": {},
   "source": [
    "Finally we can run some correlations and regression analyses between the LIWC scores and our main outcome variables, message healthiness and message likes:"
   ]
  },
  {
   "cell_type": "code",
   "execution_count": 293,
   "metadata": {},
   "outputs": [
    {
     "name": "stdout",
     "output_type": "stream",
     "text": [
      "The correlation between message affect and message healthiness is: -0.06715614926259605\n",
      "p =  0.04317655266683583\n",
      "The correlation between social processes and message healthiness is: -0.042913324167371904\n",
      "p =  0.1966311659524439\n",
      "The correlation between cognitive processes and message healthiness is: -0.005654155879118835\n",
      "p =  0.8649711440071112\n",
      "The correlation between perceptive processes and message healthiness is: -0.035873518600610776\n",
      "p =  0.2804806708085297\n",
      "The correlation between biological processes and message healthiness is: -0.027191977465730283\n",
      "p =  0.4133871733641075\n",
      "The correlation between drives and message healthiness is: 0.023809846725211966\n",
      "p =  0.4133871733641075\n"
     ]
    }
   ],
   "source": [
    "print(\"The correlation between message affect and message healthiness is:\",lwic[\"affect\"].corr(lwic[\"nutriscore_mean\"]))\n",
    "print(\"p = \", lwic[\"affect\"].corr(lwic[\"nutriscore_mean\"], method = pearsonr_pval))\n",
    "\n",
    "      \n",
    "print(\"The correlation between social processes and message healthiness is:\",lwic[\"social\"].corr(lwic[\"nutriscore_mean\"]))\n",
    "print(\"p = \",lwic[\"social\"].corr(lwic[\"nutriscore_mean\"], method = pearsonr_pval))\n",
    "\n",
    "print(\"The correlation between cognitive processes and message healthiness is:\",lwic[\"cogproc\"].corr(lwic[\"nutriscore_mean\"]))     \n",
    "print(\"p = \",lwic[\"cogproc\"].corr(lwic[\"nutriscore_mean\"], method = pearsonr_pval))\n",
    "\n",
    "print(\"The correlation between perceptive processes and message healthiness is:\",lwic[\"percept\"].corr(lwic[\"nutriscore_mean\"]))     \n",
    "print(\"p = \",lwic[\"percept\"].corr(lwic[\"nutriscore_mean\"], method = pearsonr_pval))\n",
    "\n",
    "print(\"The correlation between biological processes and message healthiness is:\",lwic[\"bio\"].corr(lwic[\"nutriscore_mean\"]))      \n",
    "print(\"p = \",lwic[\"bio\"].corr(lwic[\"nutriscore_mean\"], method = pearsonr_pval))\n",
    "\n",
    "print(\"The correlation between drives and message healthiness is:\",lwic[\"drives\"].corr(lwic[\"nutriscore_mean\"]))\n",
    "print(\"p = \",lwic[\"bio\"].corr(lwic[\"nutriscore_mean\"], method = pearsonr_pval))\n"
   ]
  },
  {
   "cell_type": "markdown",
   "metadata": {},
   "source": [
    "Next we analyse if any of the LIWC variables on its own an predict the number of likes that a message recceives."
   ]
  },
  {
   "cell_type": "code",
   "execution_count": 309,
   "metadata": {},
   "outputs": [
    {
     "name": "stdout",
     "output_type": "stream",
     "text": [
      "                            OLS Regression Results                            \n",
      "==============================================================================\n",
      "Dep. Variable:                  Likes   R-squared:                       0.009\n",
      "Model:                            OLS   Adj. R-squared:                  0.005\n",
      "Method:                 Least Squares   F-statistic:                     2.339\n",
      "Date:                Fri, 18 Nov 2022   Prob (F-statistic):             0.0168\n",
      "Time:                        13:28:02   Log-Likelihood:                -2341.9\n",
      "No. Observations:                2138   AIC:                             4702.\n",
      "Df Residuals:                    2129   BIC:                             4753.\n",
      "Df Model:                           8                                         \n",
      "Covariance Type:            nonrobust                                         \n",
      "==============================================================================\n",
      "                 coef    std err          t      P>|t|      [0.025      0.975]\n",
      "------------------------------------------------------------------------------\n",
      "Intercept      0.1700      0.185      0.917      0.359      -0.194       0.534\n",
      "affect         0.0020      0.002      1.024      0.306      -0.002       0.006\n",
      "social         0.0006      0.002      0.403      0.687      -0.003       0.004\n",
      "bio            0.0010      0.001      1.225      0.221      -0.001       0.003\n",
      "cogproc        0.0013      0.001      0.924      0.355      -0.001       0.004\n",
      "percept        0.0032      0.002      1.454      0.146      -0.001       0.007\n",
      "drives        -0.0032      0.002     -1.497      0.135      -0.007       0.001\n",
      "Age            0.0067      0.018      0.382      0.703      -0.028       0.041\n",
      "Gender        -0.0523      0.032     -1.639      0.101      -0.115       0.010\n",
      "==============================================================================\n",
      "Omnibus:                     1802.794   Durbin-Watson:                   1.563\n",
      "Prob(Omnibus):                  0.000   Jarque-Bera (JB):            41378.929\n",
      "Skew:                           4.004   Prob(JB):                         0.00\n",
      "Kurtosis:                      23.009   Cond. No.                         369.\n",
      "==============================================================================\n",
      "\n",
      "Warnings:\n",
      "[1] Standard Errors assume that the covariance matrix of the errors is correctly specified.\n"
     ]
    }
   ],
   "source": [
    "regression = sm.ols(formula=\"Likes ~ affect + social + bio + cogproc + percept + drives + Age + Gender\", data=lwic).fit()\n",
    "print(regression.summary())"
   ]
  },
  {
   "cell_type": "markdown",
   "metadata": {},
   "source": [
    "None of the LIWC variables predicts the nummber of likes that a given message receives."
   ]
  },
  {
   "cell_type": "markdown",
   "metadata": {},
   "source": [
    "# LDA topic modelling"
   ]
  },
  {
   "cell_type": "markdown",
   "metadata": {},
   "source": [
    "Now lets see if the messages might cluster into different text topics. For this we will run a topic modelling analysis:"
   ]
  },
  {
   "cell_type": "code",
   "execution_count": 314,
   "metadata": {},
   "outputs": [],
   "source": [
    "import pattern\n",
    "from pattern.nl import lemma, lexeme\n",
    "from pattern.nl import parse\n",
    "from pattern.nl import pprint\n",
    "from pattern.nl import split"
   ]
  },
  {
   "cell_type": "markdown",
   "metadata": {},
   "source": [
    "This type of analysis requires its own kind of preprocessing. E.g. detecting and transormation of n_grams within the text:"
   ]
  },
  {
   "cell_type": "code",
   "execution_count": 158,
   "metadata": {},
   "outputs": [],
   "source": [
    "def make_n_grams(texts):\n",
    "    bigram = gensim.models.Phrases(texts, min_count=5, threshold=100)  # higher threshold fewer phrases.\n",
    "    bigram_mod = gensim.models.phrases.Phraser(bigram)\n",
    "    trigram = gensim.models.Phrases(bigram[texts], threshold=100)\n",
    "    trigram_mod = gensim.models.phrases.Phraser(trigram)\n",
    "    bigrams_text = [bigram_mod[doc] for doc in texts]\n",
    "    trigrams_text =  [trigram_mod[bigram_mod[doc]] for doc in bigrams_text]\n",
    "    return trigrams_text"
   ]
  },
  {
   "cell_type": "code",
   "execution_count": 159,
   "metadata": {},
   "outputs": [],
   "source": [
    "def top_words(cluster_word_distribution, top_cluster, values):\n",
    "    for cluster in top_cluster:\n",
    "        sort_dicts =sorted(mgp.cluster_word_distribution[cluster].items(), key=lambda k: k[1], reverse=True)[:values]\n",
    "        print(\"\\nCluster %s : %s\"%(cluster,sort_dicts))"
   ]
  },
  {
   "cell_type": "markdown",
   "metadata": {},
   "source": [
    "Sometimes it is also helpful to filter words according to their grammatical role in a sentence. For this we will use lemmatization. Lets see an example: (idk why but the cell below has to be run multiple times before it will work)."
   ]
  },
  {
   "cell_type": "code",
   "execution_count": 169,
   "metadata": {},
   "outputs": [
    {
     "name": "stdout",
     "output_type": "stream",
     "text": [
      "          WORD   TAG    CHUNK   ROLE   ID     PNP    LEMMA       \n",
      "                                                                 \n",
      "            Ik   PRP    NP      SBJ    1      -      ik          \n",
      "           ben   MD     VP      -      1      -      zijn        \n",
      "      gisteren   RB     ADVP    -      -      -      gisteren    \n",
      "          naar   IN     PP      -      -      PNP    naar        \n",
      "            de   DT     NP      -      -      PNP    de          \n",
      "        doctor   NN     NP ^    -      -      PNP    doctor      \n",
      "     gegaaaaan   NN     NP ^    -      -      PNP    gegaaaaan   \n"
     ]
    }
   ],
   "source": [
    "pprint(parse('Ik ben gisteren naar de doctor gegaaaaan', relations=True, lemmata=True))"
   ]
  },
  {
   "cell_type": "markdown",
   "metadata": {},
   "source": [
    "For the analysis lets lemmatize the the text:"
   ]
  },
  {
   "cell_type": "code",
   "execution_count": 170,
   "metadata": {},
   "outputs": [],
   "source": [
    "#food_buzz[\"punct_string\"] = [', '.join(map(str, l)) for l in food_buzz['punctuation']]\n",
    "#food_buzz['lemma'] = food_buzz['punct_string'].apply(parse)\n",
    "#unique_buzz[\"lemma\"] = unique_buzz['stem_string'].apply(parse)"
   ]
  },
  {
   "cell_type": "markdown",
   "metadata": {},
   "source": [
    "Now we will count how many times a lemma appears in the dataframe. Our goal is only to keep lemma which appear at least 2 times (indicating a real word). One-time items might skew the topic modelling results."
   ]
  },
  {
   "cell_type": "code",
   "execution_count": 315,
   "metadata": {},
   "outputs": [],
   "source": [
    "#tokens_stem = []\n",
    "#for sentences in food_buzz.stem:\n",
    "    #for words in sentences:\n",
    "        #tokens_stem.append(words)\n",
    "        \n",
    "##tokens_punct = []\n",
    "#for sentences in food_buzz.punctuation:\n",
    "    #for words in sentences:\n",
    "       # tokens_punct.append(words)\n",
    "        \n",
    "#tokens_lemma = []\n",
    "#for sentences in food_buzz.lemma:\n",
    "    #for words in sentences:\n",
    "        #tokens_lemma.append(words)\n",
    "\n",
    "#tokens_lemma2 = []\n",
    "#for sentences in unique_buzz.lemma:\n",
    "    #for words in sentences:\n",
    "        #tokens_lemma2.append(words)\n",
    "\n",
    "#c = Counter(tokens_stem)\n",
    "##cc = Counter(tokens_punct)\n",
    "#ccc = Counter(tokens_lemma)\n",
    "#cccc = Counter(tokens_lemma2)\n",
    "\n",
    "\n",
    "#d = dict((k, v) for k, v in c.items() if v <= 1)\n",
    "#d = list(d.keys())\n",
    "\n",
    "#dd = dict((k, v) for k, v in cc.items() if v <= 1)\n",
    "#dd = list(dd.keys())\n",
    "\n",
    "#ddd = dict((k, v) for k, v in ccc.items() if v <= 1)\n",
    "#ddd = list(ddd.keys())\n",
    "\n",
    "#dddd = dict((k, v) for k, v in cccc.items() if v <= 1)\n",
    "#dddd = list(dddd.keys())\n"
   ]
  },
  {
   "cell_type": "markdown",
   "metadata": {},
   "source": [
    "Lets filter out these one-time lemmas:"
   ]
  },
  {
   "cell_type": "code",
   "execution_count": 316,
   "metadata": {},
   "outputs": [],
   "source": [
    "#food_buzz['stem2'] = food_buzz['stem'].apply(lambda x: [item for item in x if item not in d])\n",
    "#food_buzz['punctuation2'] = food_buzz['punctuation'].apply(lambda x: [item for item in x if item not in dd or my_stop])\n",
    "#food_buzz['lemma2'] = food_buzz['lemma'].apply(lambda x: [item for item in x if item not in ddd or my_stop])"
   ]
  },
  {
   "cell_type": "markdown",
   "metadata": {},
   "source": [
    "Sometimes topics can become clearer if only certain words from the message are used. Two strategies will be tested (one tight and one more broad). THe first strategy will keep only the noun of the message. The second strategy will keep noun, verb, adverb and adjective."
   ]
  },
  {
   "cell_type": "code",
   "execution_count": 377,
   "metadata": {},
   "outputs": [],
   "source": [
    "def noun_filter(text):\n",
    "    for sentence in split(text):\n",
    "        l = []\n",
    "        for w in sentence.words:\n",
    "            if w.type.startswith('NN')and w.string:\n",
    "                l.append(w.string)\n",
    "        return(l)\n",
    "    \n",
    "\n",
    "def broad_filter(text):\n",
    "    for sentence in split(text):\n",
    "        l = []\n",
    "        for w in sentence.words:\n",
    "            if w.type.startswith('NN') or w.type.startswith('JJ') or w.type.startswith('VB') and w.string:\n",
    "                l.append(w.string)\n",
    "        return(l)\n",
    "    \n",
    "\n",
    "def broad_filter2(text):\n",
    "    for sentence in split(text):\n",
    "        l = []\n",
    "        for w in sentence.words:\n",
    "            if w.type.startswith('NN') or w.type.startswith('JJ')and w.string:\n",
    "                l.append(w.string)\n",
    "        return(l)"
   ]
  },
  {
   "cell_type": "markdown",
   "metadata": {},
   "source": [
    "Lets apply those functions. And lets filter out stop words."
   ]
  },
  {
   "cell_type": "code",
   "execution_count": 378,
   "metadata": {},
   "outputs": [],
   "source": [
    "#food_buzz['noun_filter'] = food_buzz['lemma'].apply(noun_filter)\n",
    "#food_buzz['broad_filter'] = food_buzz['lemma'].apply(broad_filter)\n",
    "#food_buzz['broad_filter2'] = food_buzz['lemma'].apply(broad_filter2)\n",
    "#unique_buzz[\"broad_filter\"] = unique_buzz[\"lemma\"].apply(broad_filter)\n",
    "\n",
    "##tokens_broad = []\n",
    "#for sentences in food_buzz.broad_filter:\n",
    " #   for words in sentences:\n",
    "  #      tokens_broad.append(words)\n",
    "\n",
    "#cccc = Counter(tokens_broad)\n",
    "\n",
    "\n",
    "#dddd = dict((k, v) for k, v in cccc.items() if v <= 1)\n",
    "#dddd = list(dddd.keys())\n",
    "\n",
    "#food_buzz['broad_filter_clean']= food_buzz['broad_filter'].apply(lambda x: [item for item in x if item not in my_stop])\n",
    "#food_buzz['broad_filter2']= food_buzz['broad_filter2'].apply(lambda x: [item for item in x if item not in dddd])\n",
    "\n",
    "#food_buzz[\"n_grams_stems\"] = make_n_grams(food_buzz[\"stem\"])\n",
    "#food_buzz[\"n_grams_nouns\"] = make_n_grams(food_buzz[\"noun_filter\"])\n",
    "#food_buzz[\"n_grams_filter\"] = make_n_grams(food_buzz[\"broad_filter2\"])"
   ]
  },
  {
   "cell_type": "markdown",
   "metadata": {},
   "source": [
    "After all the filtering: lets see how long our average message is by now:"
   ]
  },
  {
   "cell_type": "code",
   "execution_count": 177,
   "metadata": {},
   "outputs": [
    {
     "name": "stdout",
     "output_type": "stream",
     "text": [
      "Max number of token: 64\n",
      "Mean number of token: 3.03\n",
      "Std of token: 4.58\n"
     ]
    }
   ],
   "source": [
    "#food_buzz['length'] = food_buzz['broad_filter2'].apply(len)\n",
    "\n",
    "#print(\"Max number of token:\", np.max(food_buzz.length))\n",
    "#print(\"Mean number of token:\", round(np.mean(food_buzz.length),2))\n",
    "#print(\"Std of token:\", round(np.std(food_buzz.length),2))"
   ]
  },
  {
   "cell_type": "markdown",
   "metadata": {},
   "source": [
    "# Training of the topic model"
   ]
  },
  {
   "cell_type": "markdown",
   "metadata": {},
   "source": [
    "Nice: lets train some different topic models and see which performs the best. First of all we need to prepare our data and apply our different filters:"
   ]
  },
  {
   "cell_type": "code",
   "execution_count": 379,
   "metadata": {},
   "outputs": [],
   "source": [
    "# Input format for the model : list of strings (list of tokens)\n",
    "#docs_broad2 = food_buzz[\"broad_filter2\"].tolist()\n",
    "#docs_ngram = food_buzz[\"n_grams_filter\"].tolist()\n",
    "#docs_broad = food_buzz[\"broad_filter_clean\"].tolist()\n",
    "#docs_noun = food_buzz[\"noun_filter\"].tolist()\n",
    "#docs_all = unique_buzz[\"broad_filter\"].tolist()\n",
    "#docs_all = [x for x in docs_all if x is not None]\n",
    "#vocab_broad2 = set(x for doc in docs_broad2 for x in doc)\n",
    "#vocab_ngram = set(x for doc in docs_ngram for x in doc)\n",
    "#vocab_broad = set(x for doc in docs_broad for x in doc)\n",
    "#vocab_noun = set(x for doc in docs_noun for x in doc)\n",
    "#vocab_all = set(x for doc in docs_all for x in doc)\n",
    "#n_terms1 = len(vocab1)\n",
    "#n_terms_broad2= len(vocab_broad2)\n",
    "#n_terms_broad = len(vocab_broad)\n",
    "#n_terms_noun = len(vocab_noun)\n",
    "#n_terms_all = len(vocab_all)\n",
    "\n",
    "#tdidf representations:\n",
    "##tfidf = models.TfidfModel(corpus)\n",
    "#corpus_tfidf = tfidf[corpus]\n",
    "#texts = docs_broad\n",
    "\n",
    "#print(\"Voc size:\", n_terms_broad)\n",
    "#print(\"Number of documents:\", len(docs_broad))"
   ]
  },
  {
   "cell_type": "code",
   "execution_count": 380,
   "metadata": {},
   "outputs": [],
   "source": [
    "from gensim import corpora, models\n",
    "from gensim.models.ldamodel import LdaModel\n",
    "from gensim.models.coherencemodel import CoherenceModel\n",
    "\n",
    "# Create a BOW represenation of the texts\n",
    "#id2word = corpora.Dictionary(docs_broad)\n",
    "#corpus =[id2word.doc2bow(text) for text in docs_broad]\n",
    "\n",
    "#corpus_all =[id2word.doc2bow(text) for text in docs_all]\n",
    "#id2word_all = corpora.Dictionary(docs_all)"
   ]
  },
  {
   "cell_type": "markdown",
   "metadata": {},
   "source": [
    "Next we run a coherencce analysis: This will give us an indication about what number of topics is ideal for the given dataset."
   ]
  },
  {
   "cell_type": "code",
   "execution_count": 323,
   "metadata": {},
   "outputs": [],
   "source": [
    "from gensim.models.ldamulticore import LdaMulticore\n",
    "\n",
    "def calc_coherence_values(dictionary, corpus, texts, limit = 12, start = 1, step = 1):\n",
    "    coherence_values = []\n",
    "    model_list = []\n",
    "    for num_topics in range(start, limit, step):\n",
    "        model = LdaMulticore(corpus=corpus_tfidf,id2word = dictionary, num_topics = num_topics, alpha=0.1, eta=0.1, random_state = 42)\n",
    "        model_list.append(model)\n",
    "        print('model created')\n",
    "        coherencemodel = CoherenceModel(model = model, texts = texts, dictionary = dictionary, coherence = 'c_v')\n",
    "        print(coherencemodel.get_coherence())\n",
    "        coherence_values.append(coherencemodel.get_coherence())\n",
    "    return model_list, coherence_values\n",
    "\n",
    "#model_list, coherence_values = calc_coherence_values(dictionary = id2word, corpus = corpus, texts = texts, start = 25, limit = 60, step = 5)"
   ]
  },
  {
   "cell_type": "code",
   "execution_count": 342,
   "metadata": {},
   "outputs": [
    {
     "data": {
      "text/plain": [
       "<matplotlib.image.AxesImage at 0x15b56465b88>"
      ]
     },
     "execution_count": 342,
     "metadata": {},
     "output_type": "execute_result"
    },
    {
     "data": {
      "image/png": "[encoded data removed]",
      "text/plain": [
       "<Figure size 432x288 with 1 Axes>"
      ]
     },
     "metadata": {
      "needs_background": "light"
     },
     "output_type": "display_data"
    }
   ],
   "source": [
    "#limit, start, step = 60, 25, 5\n",
    "#x = range(start, limit, step)\n",
    "#plt.plot(x, coherence_values)\n",
    "#plt.xlabel(\"Number of topics\")\n",
    "#plt.ylabel(\"Coherence\")\n",
    "#plt.legend((\"coherence_values\"), loc='best')\n",
    "#plt.show()\n",
    "\n",
    "img = iio.imread(\"Output/coherence.png\")\n",
    "plt.imshow(img)"
   ]
  },
  {
   "cell_type": "markdown",
   "metadata": {},
   "source": [
    "The coherencce analysis suggests that 45 topics is ideal for the given data, but that a higher nummber of topics does not hurt topic coherencce. Lets explore the results of our different models when setting the number of topics to slightly varying parameters. This way we aim to find the best fitting model."
   ]
  },
  {
   "cell_type": "code",
   "execution_count": 222,
   "metadata": {},
   "outputs": [],
   "source": [
    "#lda_model = models.ldamodel.LdaModel(corpus=corpus, id2word=id2word, num_topics=45,\n",
    "#alpha=\"auto\", eta=\"auto\")\n",
    "\n",
    "#lda_model2 = models.ldamodel.LdaModel(corpus=corpus, id2word=id2word, num_topics=50,\n",
    "#alpha=\"auto\", eta=\"auto\")\n",
    "\n",
    "#lda_model3 = models.ldamodel.LdaModel(corpus=corpus, id2word=id2word, num_topics=55,\n",
    "#alpha=\"auto\", eta=\"auto\")\n",
    "\n",
    "#create a tf-idf representation\n",
    "#tfidf = models.TfidfModel(corpus)\n",
    "\n",
    "# use that tfidf-representation instead of the pure counts\n",
    "#lda_tfidf4 = models.ldamodel.LdaModel(corpus=corpus_tfidf, id2word=id2word, num_topics=40, alpha=\"auto\", eta = \"auto\", random_state = 42)\n",
    "#lda_tfidf5 = models.ldamodel.LdaModel(corpus=corpus_tfidf, id2word=id2word, num_topics=45, alpha=\"auto\", eta = \"auto\", random_state = 42)\n",
    "#lda_tfidf6 = models.ldamodel.LdaModel(corpus=corpus_tfidf, id2word=id2word, num_topics=50, alpha=\"auto\", eta = \"auto\", random_state = 42)\n",
    "#lda_tfidf7 = models.ldamodel.LdaModel(corpus=corpus_tfidf, id2word=id2word, num_topics=55, alpha=\"auto\", eta = \"auto\", random_state = 42)"
   ]
  },
  {
   "cell_type": "code",
   "execution_count": 366,
   "metadata": {},
   "outputs": [],
   "source": [
    "#scoresperdoc=lda_tfidf6.inference(corpus_tfidf)\n",
    "#with open(\"topicscores_tdif3.tsv\",\"w\",encoding=\"utf-8\") as fo:\n",
    "    #for row in scoresperdoc[0]:\n",
    "        #fo.write(\"\\t\".join([\"{:0.3f}\".format(score) for score in row]))\n",
    "        #fo.write(\"\\n\")\n",
    "        \n"
   ]
  },
  {
   "cell_type": "markdown",
   "metadata": {},
   "source": [
    "Lets explore our topics in the different models and see which one in most coherent for analysis:"
   ]
  },
  {
   "cell_type": "code",
   "execution_count": 367,
   "metadata": {},
   "outputs": [],
   "source": [
    "#import pyLDAvis\n",
    "#import pyLDAvis.gensim  # don't skip this\n",
    "\n",
    "#vis_data = pyLDAvis.gensim.prepare(lda_tfidf6 ,corpus_tfidf ,id2word, mds='mmds')\n",
    "#pyLDAvis.display(vis_data)\n"
   ]
  },
  {
   "cell_type": "markdown",
   "metadata": {},
   "source": [
    "After exploration of the data we found that the TDIDF representation with 50 topics yielded the ost interpretable results.Therefore we continued with this model. Subsequently we calcculated to which \"topic\" each single message belonged to the most. For this we considered the 10 most dominant topics found by the model. Other topics were coded as residual."
   ]
  },
  {
   "cell_type": "code",
   "execution_count": 382,
   "metadata": {},
   "outputs": [],
   "source": [
    "#def format_topics_sentences(ldamodel=lda_tfidf6, corpus=corpus_tfidf, texts=docs_broad):\n",
    "    # Init output\n",
    "    #sent_topics_df = pd.DataFrame()\n",
    "\n",
    "    # Get main topic in each document\n",
    "    #for i, row in enumerate(ldamodel[corpus]):\n",
    "        #row = sorted(row, key=lambda x: (x[1]), reverse=True)\n",
    "        # Get the Dominant topic, Perc Contribution and Keywords for each document\n",
    "        #for j, (topic_num, prop_topic) in enumerate(row):\n",
    "            #if j == 0:  # => dominant topic\n",
    "                #wp = ldamodel.show_topic(topic_num)\n",
    "                #topic_keywords = \", \".join([word for word, prop in wp])\n",
    "                #sent_topics_df = sent_topics_df.append(pd.Series([int(topic_num), round(prop_topic,4), topic_keywords]), ignore_index=True)\n",
    "            #else:\n",
    "                #break\n",
    "    #sent_topics_df.columns = ['Dominant_Topic', 'Perc_Contribution', 'Topic_Keywords']\n",
    "\n",
    "    # Add original text to the end of the output\n",
    "    #contents = pd.Series(texts)\n",
    "    #sent_topics_df = pd.concat([sent_topics_df, contents], axis=1)\n",
    "    #return(sent_topics_df)\n",
    "\n",
    "\n",
    "#df_topic_sents_keywords = format_topics_sentences(ldamodel=lda_tfidf6, corpus=corpus_tfidf, texts=docs_broad)\n",
    "\n",
    "# Format\n",
    "#df_dominant_topic = df_topic_sents_keywords.reset_index()\n",
    "#df_dominant_topic.columns = ['Document_No', 'Dominant_Topic', 'Topic_Perc_Contrib', 'Keywords', 'broad_filter_clean']\n",
    "\n",
    "# Show\n",
    "#df_dominant_topic.head(10)"
   ]
  },
  {
   "cell_type": "markdown",
   "metadata": {},
   "source": [
    "We combine the topic scores with the rest of the dataset and save the results:"
   ]
  },
  {
   "cell_type": "code",
   "execution_count": 383,
   "metadata": {},
   "outputs": [],
   "source": [
    "#food_buzz_topics = pd.concat([food_buzz_lwic, df_dominant_topic], axis = 1)\n",
    "#food_buzz_topics.to_csv(r'Output/food_buzz_topics.csv', encoding='utf-8')"
   ]
  },
  {
   "cell_type": "markdown",
   "metadata": {},
   "source": [
    "Out of the data 12 dominant topics emerge. They are saved into seperate dataframes:"
   ]
  },
  {
   "cell_type": "code",
   "execution_count": 372,
   "metadata": {},
   "outputs": [],
   "source": [
    "#t1 = df_dominant_topic[df_dominant_topic.Dominant_Topic == 1.0]\n",
    "#t2 = df_dominant_topic[df_dominant_topic.Dominant_Topic == 2.0]\n",
    "#t3 = df_dominant_topic[df_dominant_topic.Dominant_Topic == 3.0]\n",
    "#t4 = df_dominant_topic[df_dominant_topic.Dominant_Topic == 4.0]\n",
    "#t5 = df_dominant_topic[df_dominant_topic.Dominant_Topic == 5.0]\n",
    "#t6 = df_dominant_topic[df_dominant_topic.Dominant_Topic == 6.0]\n",
    "#t7 = df_dominant_topic[df_dominant_topic.Dominant_Topic == 7.0]\n",
    "#t8 = df_dominant_topic[df_dominant_topic.Dominant_Topic == 8.0]\n",
    "#t9 = df_dominant_topic[df_dominant_topic.Dominant_Topic == 9.0]\n",
    "#t10 = df_dominant_topic[df_dominant_topic.Dominant_Topic == 10.0]\n",
    "#t11 = df_dominant_topic[df_dominant_topic.Dominant_Topic == 11.0]\n",
    "#t12 = df_dominant_topic[df_dominant_topic.Dominant_Topic == 12.0]\n",
    "#t45 = df_dominant_topic[df_dominant_topic.Dominant_Topic == 45.0]"
   ]
  },
  {
   "cell_type": "markdown",
   "metadata": {},
   "source": [
    "Also we create dummies, if a given message belongs to a topic or not:"
   ]
  },
  {
   "cell_type": "code",
   "execution_count": 373,
   "metadata": {},
   "outputs": [],
   "source": [
    "#result = pd.concat([food_buzz_topics, pd.get_dummies(food_buzz_topics['Dominant_Topic'], prefix = \"topic\")], axis=1)\n",
    "#result2 = result.rename(columns={'topic_1.0': 'topic_100', 'topic_2.0': 'topic_12', 'topic_3.0': 'topic_6', 'topic_4.0': 'topic_101', 'topic_5.0': 'topic_102', 'topic_6.0': 'topic_103', 'topic_7.0': 'topic_150', 'topic_8.0': 'topic_104', 'topic_9.0': 'topic_105', 'topic_10.0': 'topic_106', 'topic_11.0': 'topic_107', 'topic_12.0': 'topic_108', 'topic_13.0': 'topic_109', 'topic_14.0': 'topic_110', 'topic_15.0': 'topic_111','topic_16.0': 'topic_112','topic_17.0': 'topic_113','topic_18.0': 'topic_13','topic_19.0': 'topic_114','topic_20.0': 'topic_115','topic_21.0': 'topic_9','topic_22.0': 'topic_5','topic_23.0': 'topic_10','topic_24.0': 'topic_116','topic_25.0': 'topic_117','topic_26.0': 'topic_11','topic_27.0': 'topic_118','topic_28.0': 'topic_119','topic_29.0': 'topic_120','topic_30.0': 'topic_4','topic_31.0': 'topic_121','topic_32.0': 'topic_7','topic_33.0': 'topic_122','topic_34.0': 'topic_123','topic_35.0': 'topic_8','topic_36.0': 'topic_2','topic_37.0': 'topic_1','topic_38.0': 'topic_124','topic_39.0': 'topic_125','topic_40.0': 'topic_126','topic_41.0': 'topic_127','topic_42.0': 'topic_3','topic_43.0': 'topic_128','topic_44.0': 'topic_129','topic_45.0': 'topic_130','topic_46.0': 'topic_131','topic_47.0': 'topic_132','topic_48.0': 'topic_133','topic_49.0': 'topic_134'})"
   ]
  },
  {
   "cell_type": "markdown",
   "metadata": {},
   "source": [
    "Lets define and name the 12 most prevalent topics according what best fits their content:"
   ]
  },
  {
   "cell_type": "code",
   "execution_count": 374,
   "metadata": {},
   "outputs": [],
   "source": [
    "best_topics = ['1: Eten',\n",
    "               '2: Wat eet ik: Foods',\n",
    "               '3: Eet smakelijk',\n",
    "               '4: Honger',\n",
    "               '5: Drink / Mjamm',\n",
    "               '6: Eating plans / Tafel',\n",
    "               '7: Dutch meals',\n",
    "               '8: Food, ijs, diverse',\n",
    "               '9: Diverse / long',\n",
    "               '10: Diverse / long2',\n",
    "               '11: Diverse / long 3', \n",
    "               'Other']"
   ]
  },
  {
   "cell_type": "code",
   "execution_count": 157,
   "metadata": {},
   "outputs": [
    {
     "name": "stdout",
     "output_type": "stream",
     "text": [
      "We are left with 2124 within the 12 most common topics\n"
     ]
    }
   ],
   "source": [
    "print(\"We are left with\", len(top_topics), \"within the 12 most common topics\")"
   ]
  },
  {
   "cell_type": "markdown",
   "metadata": {},
   "source": [
    "Now we can try some visualization fo the discovered topics. First lets see how the topics are distributed:"
   ]
  },
  {
   "cell_type": "code",
   "execution_count": 348,
   "metadata": {},
   "outputs": [],
   "source": [
    "#fig = px.pie(top_topics, names='Topic',  title='Topics', color_discrete_sequence=px.colors.sequential.Burg)\n",
    "#fig.show()"
   ]
  },
  {
   "cell_type": "markdown",
   "metadata": {},
   "source": [
    "Finally, let explore if any of the topics is able to predict the number of Likes that a message receives:"
   ]
  },
  {
   "cell_type": "code",
   "execution_count": 349,
   "metadata": {},
   "outputs": [],
   "source": [
    "#regression = sm.ols(formula=\"Likes ~ Age + Gender + topic_1 + topic_2 + topic_3 + topic_4 + topic_5 + topic_6 + topic_7 + topic_8 + topic_9 + topic_10 + topic_11 + topic_12 + topic_13\", data=result2).fit()\n",
    "#print(regression.summary())"
   ]
  },
  {
   "cell_type": "markdown",
   "metadata": {},
   "source": [
    "None of the topics predicted the number of likes that a message received."
   ]
  },
  {
   "cell_type": "markdown",
   "metadata": {},
   "source": [
    "# Exploratory analysis"
   ]
  },
  {
   "cell_type": "markdown",
   "metadata": {},
   "source": [
    "As an exxploratory analysis we analyzed if other variables related to message content and style might predicct message liking."
   ]
  },
  {
   "cell_type": "code",
   "execution_count": 387,
   "metadata": {},
   "outputs": [],
   "source": [
    "#regression = sm.ols(formula=\"Likes ~ Age + Gender + length + Media_1 + Media_2 + nutriscore_mean + polarity + subjectivity + affect + bio + drive + percept + social + cog + topic_1 + topic_2 + topic_3 + topic_4 + topic_5 + topic_6 + topic_7 + topic_8 + topic_9 + topic_10 + topic_11 + topic_12 + Media_1 + Media_2 + Media_0\", data=food_buzz).fit()\n",
    "#print(regression.summary())"
   ]
  },
  {
   "cell_type": "markdown",
   "metadata": {},
   "source": [
    "As before message sentiment and subjetivity remained (marginally) significcant predictors of message liking. Message containing any image (b = 0.36, p = <0.001) and message containing a diet-related image emerged as overall strongest predictors of mmessage liking (b = 0.12, p = <0.001)"
   ]
  }
 ],
 "metadata": {
  "kernelspec": {
   "display_name": "Python 3",
   "language": "python",
   "name": "python3"
  },
  "language_info": {
   "codemirror_mode": {
    "name": "ipython",
    "version": 3
   },
   "file_extension": ".py",
   "mimetype": "text/x-python",
   "name": "python",
   "nbconvert_exporter": "python",
   "pygments_lexer": "ipython3",
   "version": "3.7.6"
  }
 },
 "nbformat": 4,
 "nbformat_minor": 4
}
